{
  "nbformat": 4,
  "nbformat_minor": 0,
  "metadata": {
    "colab": {
      "provenance": [],
      "authorship_tag": "ABX9TyONcbWjN0eZ3l6jZtFscJ6K",
      "include_colab_link": true
    },
    "kernelspec": {
      "name": "python3",
      "display_name": "Python 3"
    },
    "language_info": {
      "name": "python"
    }
  },
  "cells": [
    {
      "cell_type": "markdown",
      "metadata": {
        "id": "view-in-github",
        "colab_type": "text"
      },
      "source": [
        "<a href=\"https://colab.research.google.com/github/juhi3101/ml_libraries/blob/main/Untitled5.ipynb\" target=\"_parent\"><img src=\"https://colab.research.google.com/assets/colab-badge.svg\" alt=\"Open In Colab\"/></a>"
      ]
    },
    {
      "cell_type": "code",
      "execution_count": null,
      "metadata": {
        "id": "FXEA2mSQVKy4"
      },
      "outputs": [],
      "source": [
        "#Calculate the 95% confidence interval for a sample of data with a mean of 50 and a standard deviation of 5 using Python. Interpret the results.\n",
        "\n",
        "import scipy.stats as stats\n",
        "\n",
        "mean = 50\n",
        "std_dev = 5\n",
        "sample_size = 100  # Replace this with your actual sample size\n",
        "confidence_level = 0.95\n",
        "\n",
        "z_critical = stats.norm.ppf(1 - (1 - confidence_level) / 2)\n",
        "margin_of_error = z_critical * (std_dev / (sample_size ** 0.5))\n",
        "\n",
        "confidence_interval_lower = mean - margin_of_error\n",
        "confidence_interval_upper = mean + margin_of_error\n",
        "\n",
        "print(\"95% Confidence Interval:\")\n",
        "print(f\"Lower bound: {confidence_interval_lower:.2f}\")\n",
        "print(f\"Upper bound: {confidence_interval_upper:.2f}\")\n"
      ]
    },
    {
      "cell_type": "code",
      "source": [
        "#Conduct a chi-square goodness of fit test to determine if the distribution of colors of M&Ms in a bag matches the expected distribution of 20% blue, 20% orange,\n",
        "# 20% green, 10% yellow, 10% red, and 20% brown. Use Python to perform the test with a significance level of 0.05.\n",
        "\n",
        "import numpy as np\n",
        "from scipy.stats import chisquare\n",
        "\n",
        "# Observed frequencies of colors in the M&Ms bag\n",
        "observed_frequencies = np.array([blue_count, orange_count, green_count, yellow_count, red_count, brown_count])\n",
        "\n",
        "# Expected frequencies based on the expected distribution\n",
        "expected_frequencies = np.array([0.20, 0.20, 0.20, 0.10, 0.10, 0.20]) * total_sample_size\n",
        "\n",
        "# Perform the chi-square goodness of fit test\n",
        "chi2_stat, p_value = chisquare(observed_frequencies, expected_frequencies)\n",
        "\n",
        "significance_level = 0.05\n",
        "\n",
        "print(\"Chi-square statistic:\", chi2_stat)\n",
        "print(\"P-value:\", p_value)\n",
        "\n",
        "if p_value < significance_level:\n",
        "    print(\"Reject the null hypothesis: The distribution of colors does not match the expected distribution.\")\n",
        "else:\n",
        "    print(\"Fail to reject the null hypothesis: The distribution of colors matches the expected distribution.\")\n"
      ],
      "metadata": {
        "id": "kDp91uUuVhto"
      },
      "execution_count": null,
      "outputs": []
    },
    {
      "cell_type": "code",
      "source": [
        "#A study of the prevalence of smoking in a population of 500 individuals found that 60 individuals smoked. Use Python to calculate the 95% confidence interval\n",
        "#for the true proportion of individuals in the population who smoke.\n",
        "import scipy.stats as stats\n",
        "import math\n",
        "\n",
        "sample_size = 500\n",
        "sample_proportion = 60 / sample_size  # Proportion of individuals who smoke\n",
        "confidence_level = 0.95\n",
        "\n",
        "z_critical = stats.norm.ppf(1 - (1 - confidence_level) / 2)\n",
        "standard_error = math.sqrt((sample_proportion * (1 - sample_proportion)) / sample_size)\n",
        "\n",
        "margin_of_error = z_critical * standard_error\n",
        "\n",
        "confidence_interval_lower = sample_proportion - margin_of_error\n",
        "confidence_interval_upper = sample_proportion + margin_of_error\n",
        "\n",
        "print(\"95% Confidence Interval for Smoking Proportion:\")\n",
        "print(f\"Lower bound: {confidence_interval_lower:.4f}\")\n",
        "print(f\"Upper bound: {confidence_interval_upper:.4f}\")\n"
      ],
      "metadata": {
        "id": "j4ZbRFDEV5K5"
      },
      "execution_count": null,
      "outputs": []
    },
    {
      "cell_type": "code",
      "source": [
        "#Calculate the 90% confidence interval for a sample of data with a mean of 75 and a standard deviation of 12 using Python. Interpret the results.\n",
        "\n",
        "import scipy.stats as stats\n",
        "\n",
        "mean = 75\n",
        "std_dev = 12\n",
        "sample_size = 100  # Replace this with your actual sample size\n",
        "confidence_level = 0.90\n",
        "\n",
        "z_critical = stats.norm.ppf(1 - (1 - confidence_level) / 2)\n",
        "margin_of_error = z_critical * (std_dev / (sample_size ** 0.5))\n",
        "\n",
        "confidence_interval_lower = mean - margin_of_error\n",
        "confidence_interval_upper = mean + margin_of_error\n",
        "\n",
        "print(\"90% Confidence Interval:\")\n",
        "print(f\"Lower bound: {confidence_interval_lower:.2f}\")\n",
        "print(f\"Upper bound: {confidence_interval_upper:.2f}\")\n"
      ],
      "metadata": {
        "id": "5TbCIBeiWb5S"
      },
      "execution_count": null,
      "outputs": []
    },
    {
      "cell_type": "code",
      "source": [
        "#Use Python to plot the chi-square distribution with 10 degrees of freedom. Label the axes and shade the area corresponding to a chi-square statistic of 15.\n",
        "\n",
        "import numpy as np\n",
        "import matplotlib.pyplot as plt\n",
        "import scipy.stats as stats\n",
        "\n",
        "# Degrees of freedom\n",
        "df = 10\n",
        "\n",
        "# Create a range of chi-square values\n",
        "x = np.linspace(0, 30, 500)\n",
        "\n",
        "# Calculate the chi-square probability density function (PDF)\n",
        "chi2_pdf = stats.chi2.pdf(x, df)\n",
        "\n",
        "# Create the plot\n",
        "plt.figure(figsize=(10, 6))\n",
        "plt.plot(x, chi2_pdf, label=f'Chi-square Distribution (df={df})')\n",
        "plt.fill_between(x[x <= 15], chi2_pdf[x <= 15], color='blue', alpha=0.5, label='Chi-square Statistic (15)')\n",
        "plt.xlabel('Chi-square Value')\n",
        "plt.ylabel('Probability Density Function')\n",
        "plt.title('Chi-square Distribution')\n",
        "plt.legend()\n",
        "plt.grid(True)\n",
        "plt.show()\n"
      ],
      "metadata": {
        "id": "NVrTHsRnWqON"
      },
      "execution_count": null,
      "outputs": []
    },
    {
      "cell_type": "code",
      "source": [
        "#A random sample of 1000 people was asked if they preferred Coke or Pepsi. Of the sample, 520 preferred Coke. Calculate a 99% confidence interval for the\n",
        "#true proportion of people in the population who prefer Coke.\n",
        "\n",
        "import scipy.stats as stats\n",
        "import math\n",
        "\n",
        "sample_size = 1000\n",
        "prefer_coke_count = 520\n",
        "sample_proportion = prefer_coke_count / sample_size\n",
        "confidence_level = 0.99\n",
        "\n",
        "z_critical = stats.norm.ppf(1 - (1 - confidence_level) / 2)\n",
        "standard_error = math.sqrt((sample_proportion * (1 - sample_proportion)) / sample_size)\n",
        "\n",
        "margin_of_error = z_critical * standard_error\n",
        "\n",
        "confidence_interval_lower = sample_proportion - margin_of_error\n",
        "confidence_interval_upper = sample_proportion + margin_of_error\n",
        "\n",
        "print(\"99% Confidence Interval for Coke Preference Proportion:\")\n",
        "print(f\"Lower bound: {confidence_interval_lower:.4f}\")\n",
        "print(f\"Upper bound: {confidence_interval_upper:.4f}\")\n"
      ],
      "metadata": {
        "id": "WF3CSn5CW6BS"
      },
      "execution_count": null,
      "outputs": []
    },
    {
      "cell_type": "code",
      "source": [
        "#researcher hypothesizes that a coin is biased towards tails. They flip the coin 100 times and observe 45 tails. Conduct a chi-square goodness of fit test to\n",
        "# determine if the observed frequencies match the expected frequencies of a fair coin. Use a significance level of 0.05.\n",
        "\n",
        "import numpy as np\n",
        "from scipy.stats import chisquare\n",
        "\n",
        "observed_tails = 45\n",
        "total_flips = 100\n",
        "expected_tails = total_flips * 0.5  # Expected frequency for a fair coin\n",
        "\n",
        "observed_frequencies = np.array([observed_tails, total_flips - observed_tails])\n",
        "expected_frequencies = np.array([expected_tails, total_flips - expected_tails])\n",
        "\n",
        "# Perform the chi-square goodness of fit test\n",
        "chi2_stat, p_value = chisquare(observed_frequencies, expected_frequencies)\n",
        "\n",
        "significance_level = 0.05\n",
        "\n",
        "print(\"Chi-square statistic:\", chi2_stat)\n",
        "print(\"P-value:\", p_value)\n",
        "\n",
        "if p_value < significance_level:\n",
        "    print(\"Reject the null hypothesis: The coin is biased towards tails.\")\n",
        "else:\n",
        "    print(\"Fail to reject the null hypothesis: The coin is not biased towards tails.\")\n"
      ],
      "metadata": {
        "id": "WUzCmjeKXJgN"
      },
      "execution_count": null,
      "outputs": []
    },
    {
      "cell_type": "code",
      "source": [
        "#A random sample of 30 people was selected from a population with an unknown mean and standard deviation. The sample mean was found to be 72 and the sample\n",
        "#standard deviation was found to be 10.Conduct a hypothesis test to determine if the population mean is significantly different from 70. Use a significance level of 0.05.\n",
        "\n",
        "import scipy.stats as stats\n",
        "\n",
        "sample_mean = 72\n",
        "sample_std_dev = 10\n",
        "sample_size = 30\n",
        "population_mean_null = 70\n",
        "significance_level = 0.05\n",
        "\n",
        "# Calculate the t-statistic\n",
        "t_statistic = (sample_mean - population_mean_null) / (sample_std_dev / (sample_size ** 0.5))\n",
        "\n",
        "# Calculate the degrees of freedom\n",
        "degrees_of_freedom = sample_size - 1\n",
        "\n",
        "# Calculate the p-value\n",
        "p_value = 2 * (1 - stats.t.cdf(abs(t_statistic), df=degrees_of_freedom))\n",
        "\n",
        "print(\"T-statistic:\", t_statistic)\n",
        "print(\"Degrees of Freedom:\", degrees_of_freedom)\n",
        "print(\"P-value:\", p_value)\n",
        "\n",
        "if p_value < significance_level:\n",
        "    print(\"Reject the null hypothesis: The population mean is significantly different from 70.\")\n",
        "else:\n",
        "    print(\"Fail to reject the null hypothesis: The population mean is not significantly different from 70.\")\n"
      ],
      "metadata": {
        "id": "bl-oSdrKXg0T"
      },
      "execution_count": null,
      "outputs": []
    }
  ]
}