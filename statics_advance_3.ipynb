{
  "nbformat": 4,
  "nbformat_minor": 0,
  "metadata": {
    "colab": {
      "provenance": [],
      "authorship_tag": "ABX9TyPP336L+GlzW34QgkE1wJAl",
      "include_colab_link": true
    },
    "kernelspec": {
      "name": "python3",
      "display_name": "Python 3"
    },
    "language_info": {
      "name": "python"
    }
  },
  "cells": [
    {
      "cell_type": "markdown",
      "metadata": {
        "id": "view-in-github",
        "colab_type": "text"
      },
      "source": [
        "<a href=\"https://colab.research.google.com/github/juhi3101/ml_libraries/blob/main/statics_advance_3.ipynb\" target=\"_parent\"><img src=\"https://colab.research.google.com/assets/colab-badge.svg\" alt=\"Open In Colab\"/></a>"
      ]
    },
    {
      "cell_type": "code",
      "execution_count": null,
      "metadata": {
        "id": "JapADUTMTjhr"
      },
      "outputs": [],
      "source": [
        "What is Estimation Statistics? Explain point estimate and interval estimate.\n",
        "\n",
        "Estimation statistics is a branch of statistics that deals with the process of estimating population parameters (such as mean, variance, proportion)\n",
        "based on sample data. In situations where it's not feasible or practical to collect data from an entire population,\n",
        "statisticians use samples to make inferences about the entire population.\n",
        "\n",
        "Point Estimate:\n",
        "A point estimate is a single value that is used to approximate a population parameter. It's the most straightforward type of estimate and provides a single,\n",
        "best guess for the value of the parameter. Point estimates are often calculated using sample statistics,\n",
        "such as the sample mean, sample variance, or sample proportion.\n",
        "\n",
        "Interval Estimate:\n",
        "An interval estimate, also known as a confidence interval, provides a range of values within which the population parameter is likely to fall.\n",
        "It takes into account both the point estimate and the variability of the sample data. Interval estimates provide a level of confidence that the true\n",
        "population parameter lies within the specified interval.\n"
      ]
    },
    {
      "cell_type": "code",
      "source": [
        "#Write a Python function to estimate the population mean using a sample mean and standard deviation.\n",
        "\n",
        "import scipy.stats as stats\n",
        "\n",
        "def estimate_population_mean(sample_mean, sample_std_dev, sample_size):\n",
        "\n",
        "    standard_error = sample_std_dev / (sample_size ** 0.5)\n",
        "\n",
        "\n",
        "    confidence_level = 0.95\n",
        "\n",
        "\n",
        "    margin_of_error = stats.norm.ppf(1 - (1 - confidence_level) / 2) * standard_error\n",
        "\n",
        "\n",
        "    lower_bound = sample_mean - margin_of_error\n",
        "    upper_bound = sample_mean + margin_of_error\n",
        "\n",
        "    return lower_bound, upper_bound\n",
        "\n",
        "\n",
        "sample_mean = 85\n",
        "sample_std_dev = 10\n",
        "sample_size = 30\n",
        "\n",
        "lower_bound, upper_bound = estimate_population_mean(sample_mean, sample_std_dev, sample_size)\n",
        "print(\"95% Confidence Interval for Population Mean:\", (lower_bound, upper_bound))\n"
      ],
      "metadata": {
        "id": "fnTUqy2IUwqL"
      },
      "execution_count": null,
      "outputs": []
    },
    {
      "cell_type": "code",
      "source": [
        "#What is Hypothesis testing? Why is it used? State the importance of Hypothesis testing.\n",
        "\n",
        "\n",
        "Hypothesis testing is a statistical method used to make decisions about a population parameter based on a sample of data.\n",
        "It involves formulating two competing hypotheses, the null hypothesis (H0) and the alternative hypothesis (Ha), and then using sample data to assess\n",
        "the evidence against the null hypothesis. The goal is to determine whether there is enough evidence to reject the null hypothesis in favor of the\n",
        "alternative hypothesis.\n",
        "\n",
        "Importance of Hypothesis Testing:\n",
        "\n",
        "Hypothesis testing plays a crucial role in the scientific method and data-driven decision-making. Here's why it's important:\n",
        "\n",
        "Objectivity: Hypothesis testing provides an objective framework for making decisions based on evidence. It helps researchers\n",
        "avoid making decisions solely based on intuition or personal bias.\n",
        "\n",
        "Validation: It allows researchers to validate their theories, assumptions, and predictions. By comparing data to hypotheses,\n",
        "researchers can determine whether their ideas are supported by empirical evidence.\n",
        "\n",
        "Inference: Hypothesis testing allows researchers to make inferences about population parameters based on sample data.\n",
        "This is particularly valuable when it's impractical to collect data from an entire population."
      ],
      "metadata": {
        "id": "5V5sb_JkVKHo"
      },
      "execution_count": null,
      "outputs": []
    },
    {
      "cell_type": "code",
      "source": [
        "#Create a hypothesis that states whether the average weight of male college students is greater than the average weight of female college students.\n",
        "\n",
        "here's a hypothesis that states whether the average weight of male college students is greater than the average weight of female college students:\n",
        "\n",
        "Null Hypothesis (H0): The average weight of male college students is equal to or less than the average weight of female college students.\n",
        "\n",
        "Alternative Hypothesis (Ha): The average weight of male college students is greater than the average weight of female college students.\n",
        "\n",
        "In symbols:\n",
        "\n",
        "H0: μ_male ≤ μ_female\n",
        "Ha: μ_male > μ_female\n",
        "\n",
        "Here, \"μ_male\" represents the population average weight of male college students, and \"μ_female\"\n",
        "represents the population average weight of female college students."
      ],
      "metadata": {
        "id": "3gLINgFBVsC3"
      },
      "execution_count": null,
      "outputs": []
    },
    {
      "cell_type": "code",
      "source": [
        "#Write a Python script to conduct a hypothesis test on the difference between two population means, given a sample from each population.\n",
        "\n",
        "import scipy.stats as stats\n",
        "\n",
        "def two_sample_t_test(sample1, sample2, alpha=0.05, alternative='two-sided'):\n",
        "    # Calculate the means and standard deviations of the samples\n",
        "    mean1 = sum(sample1) / len(sample1)\n",
        "    mean2 = sum(sample2) / len(sample2)\n",
        "    std_dev1 = stats.tstd(sample1)\n",
        "    std_dev2 = stats.tstd(sample2)\n",
        "    n1 = len(sample1)\n",
        "    n2 = len(sample2)\n",
        "\n",
        "    # Calculate the pooled standard deviation\n",
        "    pooled_std_dev = ((n1 - 1) * std_dev1**2 + (n2 - 1) * std_dev2**2) / (n1 + n2 - 2)\n",
        "    pooled_std_dev = pooled_std_dev**0.5\n",
        "\n",
        "\n",
        "    t_statistic = (mean1 - mean2) / (pooled_std_dev * (1/n1 + 1/n2)**0.5)\n",
        "\n",
        "\n",
        "    degrees_of_freedom = n1 + n2 - 2\n",
        "\n",
        "\n",
        "    critical_t_value = stats.t.ppf(1 - alpha/2, degrees_of_freedom)\n",
        "\n",
        "\n",
        "    if alternative == 'two-sided':\n",
        "        p_value = 2 * (1 - stats.t.cdf(abs(t_statistic), degrees_of_freedom))\n",
        "    else:\n",
        "        p_value = 1 - stats.t.cdf(t_statistic, degrees_of_freedom)\n",
        "\n",
        "\n",
        "    if p_value < alpha:\n",
        "        result = \"Reject the null hypothesis\"\n",
        "    else:\n",
        "        result = \"Fail to reject the null hypothesis\"\n",
        "\n",
        "    return t_statistic, p_value, result\n",
        "\n",
        "sample1 = [67, 72, 65, 68, 70]\n",
        "sample2 = [62, 58, 63, 59, 60]\n",
        "\n",
        "alpha = 0.05\n",
        "t_statistic, p_value, result = two_sample_t_test(sample1, sample2, alpha)\n",
        "\n",
        "print(\"T-statistic:\", t_statistic)\n",
        "print(\"P-value:\", p_value)\n",
        "print(result)\n"
      ],
      "metadata": {
        "id": "gkxpOoAiVhDr"
      },
      "execution_count": null,
      "outputs": []
    },
    {
      "cell_type": "code",
      "source": [
        "#What is a null and alternative hypothesis? Give some examples.\n",
        "\n",
        "Null Hypothesis (H0):\n",
        "The null hypothesis represents the default or status quo assumption. It states that there is no effect, no difference, or no relationship between variables.\n",
        "It often suggests that any observed difference or effect is due to random chance. The null hypothesis is the hypothesis that is initially assumed to be\n",
        "true and is subject to testing against the alternative hypothesis.\n",
        "\n",
        "Alternative Hypothesis (Ha):\n",
        "The alternative hypothesis represents what the researcher wants to find evidence for. It states that there is an effect, a difference, or a relationship\n",
        "between variables. It is the hypothesis that challenges the null hypothesis and is supported when there is enough evidence from the data to reject\n",
        "the null hypothesis."
      ],
      "metadata": {
        "id": "7RJ9HrfWWdId"
      },
      "execution_count": null,
      "outputs": []
    },
    {
      "cell_type": "code",
      "source": [
        "Write down the steps involved in hypothesis testing.\n",
        "Hypothesis testing involves a structured set of steps to determine whether there is enough evidence in the sample data to make a decision about a population parameter. Here are the typical steps involved in hypothesis testing:\n",
        "\n",
        "Formulate Hypotheses:\n",
        "\n",
        "Formulate the null hypothesis (H0) and the alternative hypothesis (Ha) based on the research question or problem at hand. H0 represents the default assumption, while Ha represents what you're trying to find evidence for.\n",
        "Select Significance Level (α):\n",
        "\n",
        "Choose a significance level (α), which is the probability of making a Type I error (rejecting H0 when it's true). Commonly used values are 0.05, 0.01, or 0.10.\n",
        "Collect and Analyze Data:\n",
        "\n",
        "Collect data through sampling or experimentation. Ensure that the data collection process is unbiased and representative of the population.\n",
        "Choose a Test Statistic:\n",
        "\n",
        "Select an appropriate test statistic that corresponds to the type of hypothesis test being conducted (e.g., t-test, z-test, chi-square test).\n",
        "Calculate the Test Statistic:\n",
        "\n",
        "Compute the test statistic using the sample data and the chosen test formula. This statistic quantifies the difference between the sample data and what's expected under the null hypothesis.\n",
        "Determine Critical Region:\n",
        "\n",
        "Define the critical region or rejection region based on the chosen significance level and the distribution of the test statistic (e.g., critical values from t-distribution or z-distribution).\n",
        "Calculate P-Value:\n",
        "\n",
        "Calculate the p-value, which represents the probability of obtaining a test statistic as extreme as the one observed, assuming that the null hypothesis is true. The p-value informs you of the strength of evidence against H0.\n",
        "Compare P-Value and Significance Level:\n",
        "\n",
        "Compare the calculated p-value with the chosen significance level (α). If p-value ≤ α, then there's sufficient evidence to reject H0. If p-value > α, then there's insufficient evidence to reject H0.\n",
        "Make a Decision:\n",
        "\n",
        "Based on the comparison of the p-value and significance level, decide whether to reject the null hypothesis or fail to reject it. If p-value ≤ α, reject H0 in favor of Ha. If p-value > α, fail to reject H0.\n",
        "Draw Conclusion:\n",
        "\n",
        "Summarize the results of the hypothesis test in the context of the problem. State whether there's statistically significant evidence to support the alternative hypothesis.\n",
        "Communicate Results:\n",
        "\n",
        "Clearly communicate the results, including the conclusion and any insights gained from the hypothesis test. Provide relevant statistics, p-values, and any implications for the field of study."
      ],
      "metadata": {
        "id": "VdRvVALfW3Rs"
      },
      "execution_count": null,
      "outputs": []
    },
    {
      "cell_type": "code",
      "source": [
        "#Define p-value and explain its significance in hypothesis testing.\n",
        "\n",
        "The p-value (probability value) is a crucial concept in hypothesis testing that quantifies the strength of evidence against the null hypothesis (H0).\n",
        "It measures the probability of obtaining a test statistic as extreme as, or more extreme than, the one observed in the sample data, assuming that the null\n",
        "hypothesis is true. In other words, the p-value tells you how likely it is to observe the data you have collected if the null hypothesis is correct."
      ],
      "metadata": {
        "id": "V103JLK-XPdW"
      },
      "execution_count": null,
      "outputs": []
    },
    {
      "cell_type": "code",
      "source": [
        "#Generate a Student's t-distribution plot using Python's matplotlib library, with the degrees of freedom parameter set to 10.\n",
        "\n",
        "import numpy as np\n",
        "import matplotlib.pyplot as plt\n",
        "import scipy.stats as stats\n",
        "\n",
        "# Degrees of freedom\n",
        "df = 10\n",
        "\n",
        "# Generate a range of x values\n",
        "x = np.linspace(-4, 4, 400)\n",
        "\n",
        "# Calculate the corresponding probability density function (PDF) values\n",
        "pdf_values = stats.t.pdf(x, df)\n",
        "\n",
        "# Plot the t-distribution\n",
        "plt.plot(x, pdf_values, label=f\"df = {df}\")\n",
        "plt.title(\"Student's t-Distribution\")\n",
        "plt.xlabel(\"x\")\n",
        "plt.ylabel(\"PDF\")\n",
        "plt.legend()\n",
        "plt.grid(True)\n",
        "plt.show()\n"
      ],
      "metadata": {
        "id": "wY8ubONpXqzj"
      },
      "execution_count": null,
      "outputs": []
    },
    {
      "cell_type": "code",
      "source": [
        "#Write a Python program to calculate the two-sample t-test for independent samples, given two random samples of equal size and a null hypothesis that the population means are equal.\n",
        "import numpy as np\n",
        "import scipy.stats as stats\n",
        "\n",
        "def two_sample_t_test(sample1, sample2):\n",
        "    # Calculate sample statistics\n",
        "    n = len(sample1)\n",
        "    mean1 = np.mean(sample1)\n",
        "    mean2 = np.mean(sample2)\n",
        "    var1 = np.var(sample1, ddof=1)  # Use ddof=1 for sample variance\n",
        "    var2 = np.var(sample2, ddof=1)\n",
        "\n",
        "    # Calculate the pooled standard deviation\n",
        "    pooled_std_dev = np.sqrt(((n - 1) * var1 + (n - 1) * var2) / (2 * (n - 1)))\n",
        "\n",
        "    # Calculate the t-statistic\n",
        "    t_statistic = (mean1 - mean2) / (pooled_std_dev * np.sqrt(2/n))\n",
        "\n",
        "    # Calculate the degrees of freedom\n",
        "    degrees_of_freedom = 2 * n - 2\n",
        "\n",
        "    # Calculate the p-value\n",
        "    p_value = 2 * (1 - stats.t.cdf(abs(t_statistic), degrees_of_freedom))\n",
        "\n",
        "    return t_statistic, p_value\n",
        "\n",
        "# Generate random samples\n",
        "np.random.seed(42)\n",
        "sample_size = 20\n",
        "sample1 = np.random.normal(loc=10, scale=2, size=sample_size)\n",
        "sample2 = np.random.normal(loc=11, scale=2, size=sample_size)\n",
        "\n",
        "# Perform two-sample t-test\n",
        "t_statistic, p_value = two_sample_t_test(sample1, sample2)\n",
        "\n",
        "# Print results\n",
        "print(\"Sample 1 Mean:\", np.mean(sample1))\n",
        "print(\"Sample 2 Mean:\", np.mean(sample2))\n",
        "print(\"Calculated t-statistic:\", t_statistic)\n",
        "print(\"Calculated p-value:\", p_value)\n",
        "\n",
        "# Compare p-value with significance level (e.g., alpha = 0.05) for hypothesis testing\n",
        "alpha = 0.05\n",
        "if p_value < alpha:\n",
        "    print(\"Reject the null hypothesis\")\n",
        "else:\n",
        "    print(\"Fail to reject the null hypothesis\")\n"
      ],
      "metadata": {
        "id": "Y1MDHEHGX2hF"
      },
      "execution_count": null,
      "outputs": []
    },
    {
      "cell_type": "code",
      "source": [
        "#What is Student’s t distribution? When to use the t-Distribution.\n",
        "\n",
        "The Student's t-distribution, often referred to as simply the t-distribution, is a probability distribution that is used for performing hypothesis\n",
        "tests and constructing confidence intervals when the sample size is small or when the population standard deviation is unknown. It is a variation of\n",
        "the normal distribution and is characterized by its bell-shaped curve, similar to the normal distribution, but with heavier tails.\n",
        "\n",
        "The t-distribution is parameterized by its degrees of freedom (df), which determine the shape of the distribution.\n",
        "As the degrees of freedom increase, the t-distribution approaches the standard normal distribution (z-distribution)."
      ],
      "metadata": {
        "id": "V4FZhyGeYO2X"
      },
      "execution_count": null,
      "outputs": []
    },
    {
      "cell_type": "code",
      "source": [
        "#What is t-statistic? State the formula for t-statistic.\n",
        "\n",
        "The t-statistic is a test statistic that is used in hypothesis testing to assess whether there is a significant difference between sample means or to\n",
        "determine if a sample mean is significantly different from a known or hypothesized population mean. It quantifies the difference between the sample\n",
        "data and the null hypothesis and is used to make a decision about whether to reject or fail to reject the null hypothesis.\n",
        "\n",
        "The formula for the t-statistic depends on the type of t-test being conducted (e.g., one-sample, two-sample, paired) and whether the population\n",
        "standard deviation is known or unknown."
      ],
      "metadata": {
        "id": "ffdmr-GDYkRi"
      },
      "execution_count": null,
      "outputs": []
    },
    {
      "cell_type": "code",
      "source": [],
      "metadata": {
        "id": "SOiIaVMAZChj"
      },
      "execution_count": null,
      "outputs": []
    }
  ]
}