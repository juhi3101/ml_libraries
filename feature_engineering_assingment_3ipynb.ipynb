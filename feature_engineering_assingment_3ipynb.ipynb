{
  "nbformat": 4,
  "nbformat_minor": 0,
  "metadata": {
    "colab": {
      "provenance": [],
      "authorship_tag": "ABX9TyPCj7KMAuBgLOfRlKMBCIkp",
      "include_colab_link": true
    },
    "kernelspec": {
      "name": "python3",
      "display_name": "Python 3"
    },
    "language_info": {
      "name": "python"
    }
  },
  "cells": [
    {
      "cell_type": "markdown",
      "metadata": {
        "id": "view-in-github",
        "colab_type": "text"
      },
      "source": [
        "<a href=\"https://colab.research.google.com/github/juhi3101/ml_libraries/blob/main/feature_engineering_assingment_3ipynb.ipynb\" target=\"_parent\"><img src=\"https://colab.research.google.com/assets/colab-badge.svg\" alt=\"Open In Colab\"/></a>"
      ]
    },
    {
      "cell_type": "code",
      "execution_count": null,
      "metadata": {
        "id": "khUwB4Y7Ue2Q"
      },
      "outputs": [],
      "source": [
        "Q1. What is data encoding? How is it useful in data science?\n",
        "\n",
        "\n",
        "Data encoding refers to the process of converting data from one format or representation into another. In the context of data science, data encoding is a\n",
        "crucial step in preparing and managing data for analysis and machine learning. Here's how data encoding is useful in data science:\n",
        "\n",
        "Standardization: Data encoding helps standardize the format and structure of data. It ensures that all data is in a consistent and uniform representation,\n",
        "making it easier to work with and analyze. For example, encoding categorical variables into numerical values allows data scientists to perform mathematical operations on them.\n",
        "\n",
        "Compatibility: Different data sources may use different encodings or formats for representing data.\n",
        "Data encoding allows data scientists to convert data from various sources into a common format, making it compatible for analysis and modeling.\n",
        "\n",
        "Machine Learning: Machine learning algorithms often require numerical input data. Data encoding is used to convert non-numeric data, such as text or\n",
        "categorical variables, into numeric form so that it can be used as input for machine learning models.\n",
        "\n",
        "Feature Engineering: Encoding techniques are essential for feature engineering, where data scientists create new features or transform existing ones to\n",
        "improve the performance of machine learning models. Encoding categorical variables into meaningful numeric representations can enhance the quality of features.\n",
        "\n",
        "Reducing Dimensionality: Data encoding can sometimes help reduce the dimensionality of datasets. For example, one-hot encoding can convert a categorical\n",
        "variable with multiple categories into a set of binary variables, reducing the overall dimensionality of the dataset."
      ]
    },
    {
      "cell_type": "code",
      "source": [
        "Q2. What is nominal encoding? Provide an example of how you would use it in a real-world scenario.\n",
        "\n",
        "Nominal encoding, also known as one-hot encoding, is a technique used in data science to convert categorical data, specifically nominal categorical data,\n",
        "into a numerical format that can be used by machine learning algorithms. Nominal categorical data consists of categories or labels without any inherent\n",
        "order or ranking. One-hot encoding creates binary columns for each category, where each column indicates the presence or absence of a category for a\n",
        "particular data point.\n",
        "Here's how it works and a real-world example:\n",
        "\n",
        "How Nominal Encoding (One-Hot Encoding) Works:\n",
        "\n",
        "Suppose you have a dataset containing a categorical feature called \"Color,\" and the possible categories are \"Red,\" \"Blue,\" and \"Green.\"\n",
        "Using one-hot encoding, you would create three binary columns, one for each category:\n",
        "\n",
        "Red: 1 if the color is Red, 0 otherwise\n",
        "Blue: 1 if the color is Blue, 0 otherwise\n",
        "Green: 1 if the color is Green, 0 otherwise\n",
        "For example, if you have a data point with the color \"Blue,\" the one-hot encoded representation would be [0, 1, 0].\n"
      ],
      "metadata": {
        "id": "ITq2YMPYVSDV"
      },
      "execution_count": null,
      "outputs": []
    },
    {
      "cell_type": "code",
      "source": [
        "Q3. In what situations is nominal encoding preferred over one-hot encoding? Provide a practical example.\n",
        "\n",
        "\n",
        "I believe there might be some confusion in your question. Nominal encoding and one-hot encoding are often used interchangeably in many contexts\n",
        "because they refer to the same encoding technique for nominal categorical data. One-hot encoding is a type of nominal encoding.\n",
        "It's used when dealing with categorical data where there is no inherent order or ranking among the categories.\n",
        "\n",
        "Practical Example:\n",
        "\n",
        "Let's consider a practical example related to movie genres. You have a dataset of movies, and one of the categorical features is \"Genre,\" which includes\n",
        "categories like \"Action,\" \"Comedy,\" \"Drama,\" and \"Sci-Fi.\" Here's why one-hot encoding (nominal encoding) is preferred in this scenario:\n",
        "\n",
        "No Inherent Order: Movie genres have no natural order or ranking. Action is not \"greater\" than Comedy, and Sci-Fi is not \"less than\" Drama.\n",
        "\n",
        "Preventing Ordinal Assumptions: If you were to use label encoding, such as assigning 1 for Action, 2 for Comedy, 3 for Drama, and 4 for Sci-Fi,\n",
        "a model might mistakenly interpret this as Drama being \"closer\" to Comedy than Action, which is not the case.\n",
        "\n",
        "With one-hot encoding, you'd create four binary columns, one for each genre:\n",
        "\n",
        "Action: 1 if the genre is Action, 0 otherwise\n",
        "Comedy: 1 if the genre is Comedy, 0 otherwise\n",
        "Drama: 1 if the genre is Drama, 0 otherwise\n",
        "Sci-Fi: 1 if the genre is Sci-Fi, 0 otherwise"
      ],
      "metadata": {
        "id": "vIjXOIBSVtvW"
      },
      "execution_count": null,
      "outputs": []
    }
  ]
}