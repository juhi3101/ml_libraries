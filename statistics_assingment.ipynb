{
  "nbformat": 4,
  "nbformat_minor": 0,
  "metadata": {
    "colab": {
      "provenance": [],
      "authorship_tag": "ABX9TyPYVIzL6fKIVz9mpvzPcOXc",
      "include_colab_link": true
    },
    "kernelspec": {
      "name": "python3",
      "display_name": "Python 3"
    },
    "language_info": {
      "name": "python"
    }
  },
  "cells": [
    {
      "cell_type": "markdown",
      "metadata": {
        "id": "view-in-github",
        "colab_type": "text"
      },
      "source": [
        "<a href=\"https://colab.research.google.com/github/juhi3101/ml_libraries/blob/main/statistics_assingment.ipynb\" target=\"_parent\"><img src=\"https://colab.research.google.com/assets/colab-badge.svg\" alt=\"Open In Colab\"/></a>"
      ]
    },
    {
      "cell_type": "code",
      "execution_count": null,
      "metadata": {
        "id": "pdeLus5J7-9d"
      },
      "outputs": [],
      "source": [
        "# what are three measures of central tendency.\n",
        "'''\n",
        "three measure of central tendency are :\n",
        "mean - used to find average of all element in dataset.\n",
        "median - it is the middle value of dataset when data are arranged in ascending or descending order if datset has odd number of data medin is middle value and\n",
        "when even number of data medin is average of middle of two value.\n",
        "mode - value that appear most frequntly in dataset.\n",
        "'''"
      ]
    },
    {
      "cell_type": "code",
      "source": [
        "## what is the difference between mean medin amd mode . how they used to measure central tendency of data .\n",
        "'''\n",
        "the main difference between mean and median is the effect of outlier , mean more effected by outlier as it effect the average value of dataset to reduce this p\n",
        "problem median are used , medin is less efected by presence of outlier.\n",
        "mode find out the most repeateting value of dataset, it is not effected by outlier.\n"
      ],
      "metadata": {
        "id": "EBO7xZQI9uvU"
      },
      "execution_count": null,
      "outputs": []
    },
    {
      "cell_type": "code",
      "source": [
        "## measure the three measure of central tendency of given dataset height.\n",
        "height =  [178,177,176,177,178.2,178,175,179,180,175,178.9,176.2,177,172.5,178,176.5]\n",
        "\n",
        "import numpy as np\n",
        "print(np.mean(height))\n",
        "\n",
        "print(np.median(height))\n",
        "\n",
        "from scipy import stats\n",
        "mode = stats.mode(height)\n",
        "print(mode)\n"
      ],
      "metadata": {
        "colab": {
          "base_uri": "https://localhost:8080/"
        },
        "id": "GEl5h1aNBOUR",
        "outputId": "d9dde73f-f615-416d-edb0-71fb38882ed3"
      },
      "execution_count": null,
      "outputs": [
        {
          "output_type": "stream",
          "name": "stdout",
          "text": [
            "177.01875\n",
            "177.0\n",
            "ModeResult(mode=array([177.]), count=array([3]))\n"
          ]
        },
        {
          "output_type": "stream",
          "name": "stderr",
          "text": [
            "<ipython-input-6-83626ff4ad8d>:10: FutureWarning: Unlike other reduction functions (e.g. `skew`, `kurtosis`), the default behavior of `mode` typically preserves the axis it acts along. In SciPy 1.11.0, this behavior will change: the default value of `keepdims` will become False, the `axis` over which the statistic is taken will be eliminated, and the value None will no longer be accepted. Set `keepdims` to True or False to avoid this warning.\n",
            "  mode = stats.mode(height)\n"
          ]
        }
      ]
    },
    {
      "cell_type": "code",
      "source": [
        "# find the standard deviation of height dataset\n",
        "height =  [178,177,176,177,178.2,178,175,179,180,175,178.9,176.2,177,172.5,178,176.5]\n",
        "import numpy as np\n",
        "np.std(height)"
      ],
      "metadata": {
        "colab": {
          "base_uri": "https://localhost:8080/"
        },
        "id": "NFArIJDdDznb",
        "outputId": "ce2816f4-7eed-4e28-b242-004c6fad9576"
      },
      "execution_count": null,
      "outputs": [
        {
          "output_type": "execute_result",
          "data": {
            "text/plain": [
              "1.7885814036548633"
            ]
          },
          "metadata": {},
          "execution_count": 7
        }
      ]
    },
    {
      "cell_type": "code",
      "source": [
        "# how are measure of dispersion such as range variance and standard deviation used to describe the spread of dateset? provide an example.\n",
        "\n",
        "Range:\n",
        "The range is the simplest measure of dispersion and is calculated by subtracting the smallest value from the largest value in the dataset.\n",
        "\n",
        "Example: Consider the following ages of a group of individuals: 20, 25, 30, 35, 40. The range would be 40 - 20 = 20.\n",
        "This tells us that the age of the individuals spans a range of 20 years.\n",
        "\n",
        "Variance:\n",
        "Variance measures how much individual data points deviate from the mean.\n",
        "\n",
        "Example: Suppose you have a dataset of exam scores: 75, 80, 85, 90, 95. First, calculate the mean: (75 + 80 + 85 + 90 + 95) / 5 = 85.\n",
        "The squared differences from the mean are: (75 - 85)^2, (80 - 85)^2, (85 - 85)^2, (90 - 85)^2, and (95 - 85)^2.\n",
        " Calculate the average of these squared differences: (50 + 25 + 0 + 25 + 100) / 5 = 40. The variance is 40.\n",
        "\n",
        "Standard Deviation:\n",
        "The standard deviation is the square root of the variance.\n",
        "\n",
        "Example: Using the same exam scores dataset, the calculated variance was 40. To find the standard deviation,\n",
        "take the square root of the variance: √40 ≈ 6.32. This indicates that the typical deviation of individual exam scores from the mean is about 6.32 points."
      ],
      "metadata": {
        "id": "AQme1UZSEoob"
      },
      "execution_count": null,
      "outputs": []
    },
    {
      "cell_type": "code",
      "source": [
        "# what is venn diagram.\n",
        "\n",
        "A Venn diagram is a graphical representation used to show the relationships between different sets or groups of items.\n",
        "It consists of overlapping circles, each representing a set, and the overlapping regions show the elements that are common to those sets."
      ],
      "metadata": {
        "id": "Yfu9e5L5ZZXv"
      },
      "execution_count": null,
      "outputs": []
    },
    {
      "cell_type": "code",
      "source": [
        "# for the two given set A = (2,3,4,5,6) & B = (0,2,6,8,10) find\n",
        "#A intersect B\n",
        "#A union B\n",
        "A = {2,3,4,5,6}\n",
        "\n",
        "B = {0,2,6,8,10}\n",
        "\n",
        "intersection = A.intersection(B)\n",
        "union = A.union(B)\n",
        "print(intersection)\n",
        "print(union)\n",
        "\n",
        "\n",
        "\n"
      ],
      "metadata": {
        "colab": {
          "base_uri": "https://localhost:8080/"
        },
        "id": "BDgB6hNbaQqK",
        "outputId": "e834b30b-a368-48f2-f999-f5b7666c2db0"
      },
      "execution_count": 11,
      "outputs": [
        {
          "output_type": "stream",
          "name": "stdout",
          "text": [
            "{2, 6}\n",
            "{0, 2, 3, 4, 5, 6, 8, 10}\n"
          ]
        }
      ]
    },
    {
      "cell_type": "code",
      "source": [
        "# what do you understand by skewness of data.\n",
        "\n",
        "it quantifies the degree to which the data is skewed or stretched in one direction compared to its central tendency (mean, median, or mode).\n",
        "Positive Skewness (Right Skewness):\n",
        "This means that there are relatively few large values that pull the mean to the right of the median.\n",
        "\n",
        "Negative Skewness (Left Skewness):\n",
        "This means that there are relatively few small values that pull the mean to the left of the median.\n",
        "\n",
        "Zero Skewness (Symmetric Distribution):\n",
        "A distribution is considered approximately symmetric or having zero skewness if its tail lengths on both sides are roughly equal,\n",
        "and the mean is close to the median."
      ],
      "metadata": {
        "id": "FmTqVcZlceaB"
      },
      "execution_count": null,
      "outputs": []
    },
    {
      "cell_type": "code",
      "source": [],
      "metadata": {
        "id": "IgPtQTf1fnpj"
      },
      "execution_count": null,
      "outputs": []
    },
    {
      "cell_type": "code",
      "source": [],
      "metadata": {
        "id": "HtMKocUFcvoY"
      },
      "execution_count": null,
      "outputs": []
    }
  ]
}