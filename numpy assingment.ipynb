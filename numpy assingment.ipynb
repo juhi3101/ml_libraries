{
 "cells": [
  {
   "cell_type": "code",
   "execution_count": 1,
   "id": "fbf626e2-9493-4b0c-ba37-70a64847a1ef",
   "metadata": {},
   "outputs": [],
   "source": [
    "#Consider the below code to answer further questions:\n",
    "import numpy as np\n",
    "list_ = [1,2,3,4,5]\n",
    "array_list = np.array(object = list_)"
   ]
  },
  {
   "cell_type": "code",
   "execution_count": 2,
   "id": "48d016bf-9b84-4786-a838-c249316aecb1",
   "metadata": {},
   "outputs": [
    {
     "name": "stdout",
     "output_type": "stream",
     "text": [
      "[1, 2, 3, 4, 5]\n",
      "\n",
      "[1 2 3 4 5]\n",
      "\n",
      "<class 'list'>\n",
      "\n"
     ]
    },
    {
     "data": {
      "text/plain": [
       "numpy.ndarray"
      ]
     },
     "execution_count": 2,
     "metadata": {},
     "output_type": "execute_result"
    }
   ],
   "source": [
    "#Is there any difference in the data type of variables list_ and array_list? If there is then write a codeto print the\n",
    "#data types of both the variables.\n",
    "import numpy as np\n",
    "list_ = [1,2,3,4,5]\n",
    "print(list_)\n",
    "print()\n",
    "array_list = np.array(object = list_)\n",
    "print(array_list)\n",
    "print()\n",
    "print(type(list_))\n",
    "print()\n",
    "type(array_list)\n",
    "\n",
    "# list_ data in list form while array_list make n dimensional array"
   ]
  },
  {
   "cell_type": "code",
   "execution_count": 3,
   "id": "7dca0708-84d6-481c-b567-f670c4b3c3fd",
   "metadata": {},
   "outputs": [
    {
     "name": "stdout",
     "output_type": "stream",
     "text": [
      "[1, 2, 3, 4, 5]\n",
      "\n",
      "<class 'list'>\n",
      "int64\n"
     ]
    }
   ],
   "source": [
    "#Write a code to print the data type of each and every element of both the variables list_ and arra_list.\n",
    "import numpy as np\n",
    "list_ = [1,2,3,4,5]\n",
    "print(list_)\n",
    "print()\n",
    "array_list = np.array(object = list_)\n",
    "\n",
    "print(type(list_))\n",
    "\n",
    "print(array_list.dtype)\n"
   ]
  },
  {
   "cell_type": "code",
   "execution_count": 4,
   "id": "19a4605c-581b-4a9b-8d29-144429a502f5",
   "metadata": {},
   "outputs": [
    {
     "name": "stdout",
     "output_type": "stream",
     "text": [
      "[1, 2, 3, 4, 5]\n",
      "\n"
     ]
    },
    {
     "data": {
      "text/plain": [
       "list"
      ]
     },
     "execution_count": 4,
     "metadata": {},
     "output_type": "execute_result"
    }
   ],
   "source": [
    "''' Considering the following changes in the variable, array_list:\n",
    "array_list = np.array(object = list_, dtype = int)\n",
    "Will there be any difference in the data type of the elements present in both the variables, list_ and\n",
    "arra_list? If so then print the data types of each and every element present in both the variables, list_\n",
    "and arra_list.'''\n",
    "import numpy as np\n",
    "list_ = [1,2,3,4,5]\n",
    "print(list_)\n",
    "print()\n",
    "array_list = np.array(object = list_)\n",
    "array_list = np.array(object = list_, dtype = int)\n",
    "array_list.dtype\n",
    "\n",
    "type(list_)"
   ]
  },
  {
   "cell_type": "code",
   "execution_count": 5,
   "id": "28ca01b9-fac5-4f04-b5a6-8a451035b20c",
   "metadata": {},
   "outputs": [
    {
     "name": "stdout",
     "output_type": "stream",
     "text": [
      "(2, 3)\n",
      "6\n"
     ]
    }
   ],
   "source": [
    "#Consider the below code to answer further questions:\n",
    "import numpy as np\n",
    "num_list = [ [ 1 , 2 , 3 ] , [ 4 , 5 , 6 ] ]\n",
    "num_array = np.array(object = num_list)\n",
    "num_array\n",
    "\n",
    "# Write a code to find the following characteristics of variable, num_array:\n",
    "#(i) shape\n",
    "#(ii) size\n",
    "\n",
    "print(num_array.shape)\n",
    "print(num_array.size)"
   ]
  },
  {
   "cell_type": "code",
   "execution_count": 6,
   "id": "817ef142-0d25-49cf-ae53-1c17805c3251",
   "metadata": {},
   "outputs": [
    {
     "data": {
      "text/plain": [
       "matrix([[0., 0., 0.],\n",
       "        [0., 0., 0.],\n",
       "        [0., 0., 0.]])"
      ]
     },
     "execution_count": 6,
     "metadata": {},
     "output_type": "execute_result"
    }
   ],
   "source": [
    "#Write a code to create numpy array of 3*3 matrix containing zeros only, using a numpy array\n",
    "#creation function.\n",
    "#[Hint: The size of the array will be 9 and the shape will be (3,3).]\n",
    "\n",
    "import numpy.matlib as nm\n",
    "nm.zeros((3,3))"
   ]
  },
  {
   "cell_type": "code",
   "execution_count": 7,
   "id": "2b3dbcea-eee7-4396-bd43-a9ccabced447",
   "metadata": {},
   "outputs": [
    {
     "data": {
      "text/plain": [
       "matrix([[1., 0., 0., 0., 0.],\n",
       "        [0., 1., 0., 0., 0.],\n",
       "        [0., 0., 1., 0., 0.],\n",
       "        [0., 0., 0., 1., 0.],\n",
       "        [0., 0., 0., 0., 1.]])"
      ]
     },
     "execution_count": 7,
     "metadata": {},
     "output_type": "execute_result"
    }
   ],
   "source": [
    "# Create an identity matrix of shape (5,5) using numpy functions?\n",
    "#[Hint: An identity matrix is a matrix containing 1 diagonally and other elements will be 0.]\n",
    "import numpy.matlib as nm\n",
    "nm.eye(5)"
   ]
  },
  {
   "cell_type": "code",
   "execution_count": null,
   "id": "c7c42e62-75f8-4a95-a471-169054b315e9",
   "metadata": {},
   "outputs": [],
   "source": []
  }
 ],
 "metadata": {
  "kernelspec": {
   "display_name": "Python 3 (ipykernel)",
   "language": "python",
   "name": "python3"
  },
  "language_info": {
   "codemirror_mode": {
    "name": "ipython",
    "version": 3
   },
   "file_extension": ".py",
   "mimetype": "text/x-python",
   "name": "python",
   "nbconvert_exporter": "python",
   "pygments_lexer": "ipython3",
   "version": "3.10.8"
  }
 },
 "nbformat": 4,
 "nbformat_minor": 5
}
