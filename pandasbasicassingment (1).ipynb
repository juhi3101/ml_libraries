{
 "cells": [
  {
   "cell_type": "code",
   "execution_count": 1,
   "id": "2d73da1e-f6ba-4364-b779-782e60426f0d",
   "metadata": {},
   "outputs": [
    {
     "name": "stdout",
     "output_type": "stream",
     "text": [
      "0     4\n",
      "1     8\n",
      "2    15\n",
      "3    16\n",
      "4    23\n",
      "5    42\n",
      "dtype: int64\n"
     ]
    }
   ],
   "source": [
    "# Create a Pandas Series that contains the following data: 4, 8, 15, 16, 23, and 42. Then, print the series.\n",
    "\n",
    "import pandas as pd \n",
    "var = [4,8,15,16,23,42]\n",
    "sr = pd.Series(var)\n",
    "print(sr)\n"
   ]
  },
  {
   "cell_type": "code",
   "execution_count": 2,
   "id": "b79eec7c-3988-4031-950e-92dd96da4fdb",
   "metadata": {},
   "outputs": [
    {
     "name": "stdout",
     "output_type": "stream",
     "text": [
      "0     1\n",
      "1     2\n",
      "2     3\n",
      "3     4\n",
      "4     5\n",
      "5     6\n",
      "6     7\n",
      "7     8\n",
      "8     9\n",
      "9    10\n",
      "dtype: int64\n"
     ]
    },
    {
     "data": {
      "text/plain": [
       "pandas.core.series.Series"
      ]
     },
     "execution_count": 2,
     "metadata": {},
     "output_type": "execute_result"
    }
   ],
   "source": [
    "#Create a variable of list type containing 10 elements in it, and apply pandas.Series function on the\n",
    "#variable print it.\n",
    "\n",
    "var1 = [1,2,3,4,5,6,7,8,9,10]\n",
    "a = pd.Series(var1)\n",
    "print(a)\n",
    "\n",
    "a.head() # it will print first five element\n",
    "\n",
    "a.tail() # it will print last five elememnt\n",
    "\n",
    "type(a) # it determine type of variable a.\n"
   ]
  },
  {
   "cell_type": "code",
   "execution_count": 3,
   "id": "bae4dfc9-1004-4ae0-abbc-7c12dd979040",
   "metadata": {},
   "outputs": [
    {
     "name": "stdout",
     "output_type": "stream",
     "text": [
      "     name  Age  Gender\n",
      "0   Alice   25  Female\n",
      "1     Bob   30    Male\n",
      "2  Claire   27  Female\n"
     ]
    }
   ],
   "source": [
    "'''Create a Pandas DataFrame that contains the following data:\n",
    "Name\n",
    "Alice\n",
    "Bob\n",
    "Claire\n",
    "Age\n",
    "25\n",
    "30\n",
    "27\n",
    "Gender\n",
    "Female\n",
    "Male\n",
    "Female\n",
    "Then, print the DataFrame.'''\n",
    "\n",
    "import pandas as pd\n",
    "\n",
    "df = ({\"name\":['Alice','Bob','Claire'], \"Age\":[25,30,27], \"Gender\":['Female','Male','Female']})\n",
    "s = pd.DataFrame(df)\n",
    "print(s)"
   ]
  },
  {
   "cell_type": "code",
   "execution_count": 4,
   "id": "ce472ef9-8704-4d37-aad2-f675348d9628",
   "metadata": {},
   "outputs": [
    {
     "name": "stdout",
     "output_type": "stream",
     "text": [
      "0    10\n",
      "1    20\n",
      "2    30\n",
      "3    40\n",
      "dtype: int64\n",
      "\n",
      "     name     sub\n",
      "0    juhi  python\n",
      "1  anjali     c++\n",
      "2    aman    java\n"
     ]
    }
   ],
   "source": [
    "# What is ‘DataFrame’ in pandas and how is it different from pandas.series? Explain with an example.\n",
    "'''\n",
    "DataFrame is two dimwnsional, size mutable and heterogenous tabular data structure. it can be spreadsheet or sql table where data \n",
    "is organised in rows and columns.on the other hand series is one dimensional labelled capable of holding any datatype it is similar\n",
    "to numpy array but come with additional functionalities and associated index.\n",
    "\n",
    "'''\n",
    "# series example\n",
    "a = [10,20,30,40]\n",
    "s = pd.Series(a)\n",
    "print(s)\n",
    "\n",
    "print()\n",
    "\n",
    "x = ({\"name\":['juhi','anjali','aman'],\"sub\":['python','c++','java']})\n",
    "df = pd.DataFrame(x)\n",
    "print(df)\n",
    "\n",
    "\n"
   ]
  },
  {
   "cell_type": "code",
   "execution_count": 18,
   "id": "467a9f82-18e5-4916-8e8b-8358215b94f1",
   "metadata": {},
   "outputs": [
    {
     "name": "stdout",
     "output_type": "stream",
     "text": [
      "      Rk          Player Pos Age   Tm   G  GS    MP   FG  FGA  ...   FT%  ORB  \\\n",
      "0      1      Quincy Acy  PF  24  NYK  68  22  1287  152  331  ...  .784   79   \n",
      "1      2    Jordan Adams  SG  20  MEM  30   0   248   35   86  ...  .609    9   \n",
      "2      3    Steven Adams   C  21  OKC  70  67  1771  217  399  ...  .502  199   \n",
      "3      4     Jeff Adrien  PF  28  MIN  17   0   215   19   44  ...  .579   23   \n",
      "4      5   Arron Afflalo  SG  29  TOT  78  72  2502  375  884  ...  .843   27   \n",
      "..   ...             ...  ..  ..  ...  ..  ..   ...  ...  ...  ...   ...  ...   \n",
      "670  490  Thaddeus Young  PF  26  TOT  76  68  2434  451  968  ...  .655  127   \n",
      "671  490  Thaddeus Young  PF  26  MIN  48  48  1605  289  641  ...  .682   75   \n",
      "672  490  Thaddeus Young  PF  26  BRK  28  20   829  162  327  ...  .606   52   \n",
      "673  491     Cody Zeller   C  22  CHO  62  45  1487  172  373  ...  .774   97   \n",
      "674  492    Tyler Zeller   C  25  BOS  82  59  1731  340  619  ...  .823  146   \n",
      "\n",
      "     DRB  TRB  AST  STL BLK  TOV   PF   PTS  \n",
      "0    222  301   68   27  22   60  147   398  \n",
      "1     19   28   16   16   7   14   24    94  \n",
      "2    324  523   66   38  86   99  222   537  \n",
      "3     54   77   15    4   9    9   30    60  \n",
      "4    220  247  129   41   7  116  167  1035  \n",
      "..   ...  ...  ...  ...  ..  ...  ...   ...  \n",
      "670  284  411  173  124  25  117  171  1071  \n",
      "671  170  245  135   86  17   75  115   685  \n",
      "672  114  166   38   38   8   42   56   386  \n",
      "673  265  362  100   34  49   62  156   472  \n",
      "674  319  465  113   18  52   76  205   833  \n",
      "\n",
      "[675 rows x 30 columns]\n",
      "\n"
     ]
    },
    {
     "data": {
      "text/html": [
       "<div>\n",
       "<style scoped>\n",
       "    .dataframe tbody tr th:only-of-type {\n",
       "        vertical-align: middle;\n",
       "    }\n",
       "\n",
       "    .dataframe tbody tr th {\n",
       "        vertical-align: top;\n",
       "    }\n",
       "\n",
       "    .dataframe thead th {\n",
       "        text-align: right;\n",
       "    }\n",
       "</style>\n",
       "<table border=\"1\" class=\"dataframe\">\n",
       "  <thead>\n",
       "    <tr style=\"text-align: right;\">\n",
       "      <th></th>\n",
       "      <th>AST</th>\n",
       "      <th>TOV</th>\n",
       "    </tr>\n",
       "  </thead>\n",
       "  <tbody>\n",
       "    <tr>\n",
       "      <th>0</th>\n",
       "      <td>68</td>\n",
       "      <td>60</td>\n",
       "    </tr>\n",
       "    <tr>\n",
       "      <th>1</th>\n",
       "      <td>16</td>\n",
       "      <td>14</td>\n",
       "    </tr>\n",
       "    <tr>\n",
       "      <th>2</th>\n",
       "      <td>66</td>\n",
       "      <td>99</td>\n",
       "    </tr>\n",
       "    <tr>\n",
       "      <th>3</th>\n",
       "      <td>15</td>\n",
       "      <td>9</td>\n",
       "    </tr>\n",
       "    <tr>\n",
       "      <th>4</th>\n",
       "      <td>129</td>\n",
       "      <td>116</td>\n",
       "    </tr>\n",
       "    <tr>\n",
       "      <th>...</th>\n",
       "      <td>...</td>\n",
       "      <td>...</td>\n",
       "    </tr>\n",
       "    <tr>\n",
       "      <th>670</th>\n",
       "      <td>173</td>\n",
       "      <td>117</td>\n",
       "    </tr>\n",
       "    <tr>\n",
       "      <th>671</th>\n",
       "      <td>135</td>\n",
       "      <td>75</td>\n",
       "    </tr>\n",
       "    <tr>\n",
       "      <th>672</th>\n",
       "      <td>38</td>\n",
       "      <td>42</td>\n",
       "    </tr>\n",
       "    <tr>\n",
       "      <th>673</th>\n",
       "      <td>100</td>\n",
       "      <td>62</td>\n",
       "    </tr>\n",
       "    <tr>\n",
       "      <th>674</th>\n",
       "      <td>113</td>\n",
       "      <td>76</td>\n",
       "    </tr>\n",
       "  </tbody>\n",
       "</table>\n",
       "<p>675 rows × 2 columns</p>\n",
       "</div>"
      ],
      "text/plain": [
       "     AST  TOV\n",
       "0     68   60\n",
       "1     16   14\n",
       "2     66   99\n",
       "3     15    9\n",
       "4    129  116\n",
       "..   ...  ...\n",
       "670  173  117\n",
       "671  135   75\n",
       "672   38   42\n",
       "673  100   62\n",
       "674  113   76\n",
       "\n",
       "[675 rows x 2 columns]"
      ]
     },
     "execution_count": 18,
     "metadata": {},
     "output_type": "execute_result"
    }
   ],
   "source": [
    "#What are some common functions you can use to manipulate data in a Pandas DataFrame? Canyou give an example of when you might\n",
    "#use one of these functions?\n",
    "\n",
    "\n",
    "\n",
    "import lxml\n",
    "import pandas as pd \n",
    "url_data = pd.read_html(\"https://www.basketball-reference.com/leagues/NBA_2015_totals.html\") # extracting data of given link \n",
    "\n",
    "type(url_data)\n",
    "len(url_data)\n",
    "\n",
    "df = url_data[0] #html data will converted into dataframe\n",
    "\n",
    "print(df)\n",
    "\n",
    "df.head # print first five data\n",
    "print()\n",
    "\n",
    "df.tail # print last five data\n",
    "\n",
    "df.columns # print all columns in dataframe\n",
    "\n",
    "df.dtypes # list out the all columns datatypes\n",
    "\n",
    "df[['AST','TOV']] # with the help of  this function you can print any two or three column you want."
   ]
  },
  {
   "cell_type": "code",
   "execution_count": null,
   "id": "63128ddf-c178-4dbf-9c10-fcde998e59db",
   "metadata": {},
   "outputs": [],
   "source": [
    "# Which of the following is mutable in nature Series, DataFrame, Panel?\n",
    "\n",
    "'''\n",
    "in pandas series are mutable which means you can modify its data chnage the index label and remove or add elements after creation.\n",
    "DataFrame is also mutable you can add or delete column,modify data in specific cell,append rows and can perform differemt operation\n",
    "panel is an immmutable it used to handle three dimensional data.\n",
    "'''"
   ]
  },
  {
   "cell_type": "code",
   "execution_count": null,
   "id": "146d12f5-088d-4727-bd2a-c8ba2a5ebea8",
   "metadata": {},
   "outputs": [
    {
     "name": "stdout",
     "output_type": "stream",
     "text": [
      "   sr  sr1\n",
      "0   1    5\n",
      "1   2    6\n",
      "2   3    7\n",
      "3   4    8\n"
     ]
    }
   ],
   "source": [
    "#Create a DataFrame using multiple Series. Explain with an example.\n",
    "\n",
    "a = ({\"sr\":pd.Series([1,2,3,4]), \"sr1\":pd.Series([5,6,7,8])})\n",
    "df = pd.DataFrame(a)\n",
    "print(df)"
   ]
  },
  {
   "cell_type": "code",
   "execution_count": null,
   "id": "d1a42326-ff2a-4556-992e-23473e1a311c",
   "metadata": {},
   "outputs": [],
   "source": []
  }
 ],
 "metadata": {
  "kernelspec": {
   "display_name": "Python 3 (ipykernel)",
   "language": "python",
   "name": "python3"
  },
  "language_info": {
   "codemirror_mode": {
    "name": "ipython",
    "version": 3
   },
   "file_extension": ".py",
   "mimetype": "text/x-python",
   "name": "python",
   "nbconvert_exporter": "python",
   "pygments_lexer": "ipython3",
   "version": "3.10.8"
  }
 },
 "nbformat": 4,
 "nbformat_minor": 5
}
