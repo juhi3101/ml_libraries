{
  "nbformat": 4,
  "nbformat_minor": 0,
  "metadata": {
    "colab": {
      "provenance": [],
      "authorship_tag": "ABX9TyPStcUJv1yvrbn2IM8P4HvZ",
      "include_colab_link": true
    },
    "kernelspec": {
      "name": "python3",
      "display_name": "Python 3"
    },
    "language_info": {
      "name": "python"
    }
  },
  "cells": [
    {
      "cell_type": "markdown",
      "metadata": {
        "id": "view-in-github",
        "colab_type": "text"
      },
      "source": [
        "<a href=\"https://colab.research.google.com/github/juhi3101/ml_libraries/blob/main/statistics_advance_2.ipynb\" target=\"_parent\"><img src=\"https://colab.research.google.com/assets/colab-badge.svg\" alt=\"Open In Colab\"/></a>"
      ]
    },
    {
      "cell_type": "code",
      "execution_count": null,
      "metadata": {
        "id": "dyoN0JEi-diM"
      },
      "outputs": [],
      "source": [
        "#What are the Probability Mass Function (PMF) and Probability Density Function (PDF)? Explain with an example.\n",
        "\n",
        "Probability Mass Function (PMF):\n",
        "The PMF is a function that assigns probabilities to each possible value that a discrete random variable can take. It gives the probability of the random\n",
        "variable X taking on a specific value x. Mathematically, for a discrete random variable X, the PMF is denoted as P(X = x) or p(x), where x represents a\n",
        "specific value that X can take.\n",
        "\n",
        "Probability Density Function (PDF):\n",
        "The PDF is used to describe the probability distribution of a continuous random variable. Unlike discrete variables, continuous random variables can\n",
        "take on an infinite number of values within a certain range. The PDF gives the likelihood of the random variable falling within a certain interval.\n",
        "Mathematically, for a continuous random variable X, the PDF is denoted as f(x)."
      ]
    },
    {
      "cell_type": "code",
      "source": [
        "#What is Cumulative Density Function (CDF)? Explain with an example. Why CDF is used?\n",
        "\n",
        "The Cumulative Density Function (CDF) is a concept used in probability and statistics to describe the cumulative probability distribution of a random variable.\n",
        "It provides information about the probability that a random variable takes on a value less than or equal to a certain value. In essence, the CDF gives you the\n",
        "cumulative probability up to a specific point.\n",
        "\n",
        "Mathematically, for a random variable X, the CDF is denoted as F(x) and is defined as:\n",
        "\n",
        "F(x) = P(X ≤ x)\n",
        "\n",
        "Where:\n",
        "\n",
        "F(x) is the CDF of the random variable X.\n",
        "x is a specific value of the random variable.\n",
        "In other words, the CDF at a particular value x gives you the probability of the random variable being less than or equal to x.\n",
        "\n",
        "Example:\n",
        "Let's consider the example of rolling a fair six-sided die. The possible outcomes are the numbers 1 through 6.\n",
        "\n",
        "The CDF for this example would look like this:\n",
        "\n",
        "F(x ≤ 1) = P(X ≤ 1) = 1/6\n",
        "F(x ≤ 2) = P(X ≤ 2) = 2/6 = 1/3\n",
        "F(x ≤ 3) = P(X ≤ 3) = 3/6 = 1/2\n",
        "F(x ≤ 4) = P(X ≤ 4) = 4/6 = 2/3\n",
        "F(x ≤ 5) = P(X ≤ 5) = 5/6\n",
        "F(x ≤ 6) = P(X ≤ 6) = 6/6 = 1\n",
        "In this example, the CDF provides the cumulative probabilities of rolling a number less than or equal to a specific value on the die.\n",
        "For instance, the probability of rolling a number less than or equal to 3 is 1/2, and the probability of rolling a number less than or equal to 5 is 5/6.\n",
        "\n",
        "Why CDF is used:\n",
        "The CDF is used for several reasons:\n",
        "\n",
        "Quantifying cumulative probabilities: The CDF allows you to calculate the probability of a random variable falling within a certain range or being less\n",
        " than a specific value.\n",
        "\n",
        "Calculating percentiles: The CDF provides a way to find percentiles, which are values below which a certain percentage of data falls.\n",
        "For instance, the median is the value at which the CDF reaches 0.5."
      ],
      "metadata": {
        "id": "IBNuAAPUCKb1"
      },
      "execution_count": null,
      "outputs": []
    },
    {
      "cell_type": "code",
      "source": [
        "#What are some examples of situations where the normal distribution might be used as a model? Explain how the parameters of the normal distribution relate to the shape of the distribution.\n",
        "\n",
        "\n",
        "The normal distribution, also known as the Gaussian distribution or bell curve, is a widely used probability distribution in statistics and probability\n",
        " theory. It's often used as a model for real-world situations where the data tends to cluster around a central value with symmetrical tails.\n",
        " Here are some examples of situations where the normal distribution might be used as a model:\n",
        "\n",
        "Height of Individuals: The heights of adult individuals tend to follow a roughly normal distribution. Most people fall close to the average height,\n",
        "with fewer individuals being much shorter or taller.\n",
        "\n",
        "Test Scores: In educational testing, test scores often follow a normal distribution. The majority of students score around the mean,\n",
        "with fewer scoring very high or very low.\n",
        "\n",
        "Measurement Errors: When measuring physical quantities, there's usually some inherent variability due to measurement errors.\n",
        "These errors often follow a normal distribution."
      ],
      "metadata": {
        "id": "8YNvhNtJC43z"
      },
      "execution_count": null,
      "outputs": []
    },
    {
      "cell_type": "code",
      "source": [
        "#Explain the importance of Normal Distribution. Give a few real-life examples of Normal Distribution.\n",
        "The normal distribution, also known as the Gaussian distribution or bell curve, holds significant importance in various fields due to its widespread\n",
        "occurrence in real-world phenomena. Its properties and characteristics make it a powerful tool for modeling and analysis.\n",
        "\n",
        "Real-life examples of situations that can be modeled using the normal distribution include:\n",
        "\n",
        "Height of Individuals: As mentioned earlier, the heights of adult individuals often follow a normal distribution. Most people fall\n",
        "around the average height, with fewer individuals being much taller or shorter.\n",
        "\n",
        "IQ Scores: IQ scores in a population tend to follow a normal distribution. Most people have average IQ scores, with fewer individuals having very\n",
        "high or very low scores.\n",
        "\n",
        "Blood Pressure: Blood pressure readings in a healthy population can be approximated by a normal distribution,\n",
        "with most people having readings around the average blood pressure."
      ],
      "metadata": {
        "id": "5OMDdY6DDWvR"
      },
      "execution_count": null,
      "outputs": []
    },
    {
      "cell_type": "code",
      "source": [
        "The Bernoulli distribution is a fundamental probability distribution that models a random experiment with two possible outcomes: success (usually denoted as 1) and failure (usually denoted as 0). It is named after the Swiss mathematician Jacob Bernoulli. The Bernoulli distribution is a simple and special case of the binomial distribution, which involves multiple independent Bernoulli trials.\n",
        "\n",
        "Mathematically, the probability mass function (PMF) of the Bernoulli distribution is:\n",
        "\n",
        "P(X = x) = p^x * (1 - p)^(1 - x)\n",
        "\n",
        "Where:\n",
        "\n",
        "X is a random variable representing the outcome (0 or 1) of a Bernoulli trial.\n",
        "x is the value of the random variable (0 or 1).\n",
        "p is the probability of success (i.e., the probability that X = 1).\n",
        "(1 - p) is the probability of failure (i.e., the probability that X = 0).\n",
        "Example of Bernoulli Distribution:\n",
        "Consider a biased coin that has a 0.7 probability of landing heads (success) and a 0.3 probability of landing tails (failure). In this case, the outcome of each coin flip can be modeled using a Bernoulli distribution.\n",
        "\n",
        "Let X be a random variable representing the outcome of the coin flip, where X = 1 corresponds to heads (success) and X = 0 corresponds to tails (failure).\n",
        "\n",
        "#What is Bernaulli Distribution? Give an Example. What is the difference between Bernoulli Distribution and Binomial Distribution?\n",
        "\n",
        "The PMF of the Bernoulli distribution for this example would be:\n",
        "\n",
        "P(X = 0) = 0.3 (probability of tails)\n",
        "P(X = 1) = 0.7 (probability of heads)\n",
        "Now, let's discuss the difference between Bernoulli Distribution and Binomial Distribution:\n",
        "\n",
        "Bernoulli Distribution:\n",
        "\n",
        "Deals with a single Bernoulli trial, which has only two possible outcomes (success and failure).\n",
        "The random variable X takes values 0 or 1.\n",
        "The PMF is given by P(X = x) = p^x * (1 - p)^(1 - x).\n",
        "Models a single event or experiment.\n",
        "Binomial Distribution:\n",
        "\n",
        "Deals with multiple independent Bernoulli trials (repeated Bernoulli experiments).\n",
        "The random variable Y represents the number of successes in a fixed number of trials.\n",
        "The probability of success (p) remains the same for each trial.\n",
        "The PMF is given by P(Y = k) = C(n, k) * p^k * (1 - p)^(n - k), where n is the number of trials and k is the number of successes.\n",
        "Models the number of successes in a series of repeated independent trials.\n",
        "In essence, the Bernoulli distribution is a building block for the binomial distribution.\n",
        "The binomial distribution describes the number of successes in a fixed number of independent Bernoulli trials,\n",
        "making it more versatile for situations involving multiple repetitions of the same experiment.\n",
        "\n",
        "Example of Bernoulli Distribution:\n",
        "Consider a biased coin that has a 0.7 probability of landing heads (success) and a 0.3 probability of landing tails (failure).\n",
        "In this case, the outcome of each coin flip can be modeled using a Bernoulli distribution.\n",
        "\n",
        "Let X be a random variable representing the outcome of the coin flip, where X = 1 corresponds to heads (success) and X = 0 corresponds to tails (failure).\n",
        "\n",
        "The PMF of the Bernoulli distribution for this example would be:\n",
        "\n",
        "P(X = 0) = 0.3 (probability of tails)\n",
        "P(X = 1) = 0.7 (probability of heads)\n"
      ],
      "metadata": {
        "id": "nv_qazA7EK02"
      },
      "execution_count": null,
      "outputs": []
    },
    {
      "cell_type": "code",
      "source": [
        "#Explain uniform Distribution with an example.\n",
        "\n",
        "The uniform distribution is a probability distribution in which all possible outcomes are equally likely within a specified range.\n",
        "It is often visualized as a flat, constant probability density function over the interval of interest. In other words, every value within the interval\n",
        "as the same probability of occurring.\n",
        "\n",
        "Mathematically, the probability density function (PDF) of the uniform distribution is:\n",
        "\n",
        "f(x) = 1 / (b - a)\n",
        "\n",
        "Where:\n",
        "\n",
        "f(x) is the probability density function at a given value x.\n",
        "a is the lower bound of the interval.\n",
        "b is the upper bound of the interval.\n",
        "\n",
        "Example of Uniform Distribution:\n",
        "Let's say you have a random experiment where you're selecting a random number between 1 and 6 (inclusive)\n",
        "using a fair six-sided die. The outcomes are equally likely for each number, and there's no bias toward any specific value.\n",
        "In this scenario, the uniform distribution applies.\n",
        "\n",
        "For this example, the lower bound (a) is 1, and the upper bound (b) is 6.\n",
        "\n",
        "The PDF of the uniform distribution in this case would be:\n",
        "\n",
        "f(x) = 1 / (6 - 1) = 1/5 for 1 ≤ x ≤ 6\n",
        "f(x) = 0 for x < 1 or x > 6\n",
        "This means that every value from 1 to 6 has an equal probability of 1/5 of being selected. The PDF remains constant within this interval and\n",
        " drops to zero outside of it.\n",
        "\n"
      ],
      "metadata": {
        "id": "oeFbYdstEv9f"
      },
      "execution_count": null,
      "outputs": []
    },
    {
      "cell_type": "code",
      "source": [
        "#What is the z score? State the importance of the z score.\n",
        "The z-score, also known as the standard score, is a statistical measure that quantifies how many standard deviations a data point is away from\n",
        "the mean of a distribution. It's a standardized way of expressing the relative position of a data point within a distribution,\n",
        "regardless of the original scale of the data. The z-score is often used to compare data points from different distributions and to identify outliers.\n",
        "\n",
        "Mathematically, the z-score of a data point x in a distribution with mean μ and standard deviation σ is calculated as:\n",
        "\n",
        "z = (x - μ) / σ\n",
        "\n",
        "Where:\n",
        "\n",
        "z is the z-score of the data point.\n",
        "x is the value of the data point.\n",
        "μ is the mean of the distribution.\n",
        "σ is the standard deviation of the distribution."
      ],
      "metadata": {
        "id": "qbUxsbwVFQ1N"
      },
      "execution_count": null,
      "outputs": []
    },
    {
      "cell_type": "code",
      "source": [
        "#What is Central Limit Theorem? State the significance of the Central Limit Theorem.\n",
        "\n",
        "The Central Limit Theorem (CLT) is a fundamental concept in statistics that states that the distribution of sample means, taken from a sufficiently\n",
        "large number of independent, identically distributed random samples, will be approximately normally distributed, regardless of the original distribution\n",
        "of the population. In other words, as the sample size increases,\n",
        "the distribution of sample means tends to become more and more like a normal distribution, regardless of the shape of the population distribution."
      ],
      "metadata": {
        "id": "Y2Ik7UrMFmui"
      },
      "execution_count": null,
      "outputs": []
    },
    {
      "cell_type": "code",
      "source": [
        "# State the assumptions of the Central Limit Theorem.\n",
        "\n",
        "The Central Limit Theorem (CLT) is a fundamental concept in statistics that provides insights into the distribution of sample means.\n",
        " While the CLT is powerful and widely applicable, it relies on certain assumptions to hold true. These assumptions include:\n",
        "\n",
        "Random Sampling: The samples must be drawn randomly from the population of interest. Each sample should be independent of the others,\n",
        "and each individual in the population should have an equal chance of being selected in each sample.\n",
        "\n",
        "Sample Size: The sample size should be sufficiently large. While there's no strict rule for what constitutes a \"sufficiently large\" sample size, a\n",
        "common guideline is that the sample size should ideally be at least 30. However, even for smaller sample sizes, the CLT can still provide a reasonably\n",
        "good approximation if the population distribution is not extremely skewed or heavy-tailed.\n",
        "\n",
        "Finite Variance: The population distribution should have a finite variance. This assumption ensures that the sample means have well-defined variances\n",
        "as the sample size increases."
      ],
      "metadata": {
        "id": "5Pbk_6JrF72h"
      },
      "execution_count": null,
      "outputs": []
    }
  ]
}