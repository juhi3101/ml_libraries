{
 "cells": [
  {
   "cell_type": "code",
   "execution_count": 6,
   "id": "d2f127ef-d725-4331-aea3-908265735682",
   "metadata": {},
   "outputs": [
    {
     "data": {
      "text/plain": [
       "PassengerId      int64\n",
       "Survived         int64\n",
       "Pclass           int64\n",
       "Name            object\n",
       "Sex             object\n",
       "Age            float64\n",
       "SibSp            int64\n",
       "Parch            int64\n",
       "Ticket          object\n",
       "Fare           float64\n",
       "Cabin           object\n",
       "Embarked        object\n",
       "dtype: object"
      ]
     },
     "execution_count": 6,
     "metadata": {},
     "output_type": "execute_result"
    }
   ],
   "source": [
    "# List any five functions of the pandas library with execution.\n",
    "'''\n",
    "1. read_csv()\n",
    "This is one of the most crucial pandas methods in Python.\n",
    "read_csv() function helps read a comma-separated values (csv) file into a Pandas DataFrame. \n",
    "'''\n",
    "\n",
    "import pandas as pd\n",
    "df = pd.read_csv(\"https://raw.githubusercontent.com/datasciencedojo/datasets/master/titanic.csv\")\n",
    "df\n",
    "'''\n",
    "2. head()\n",
    "head(n) is used to return the first n rows of a dataset.\n",
    "'''\n",
    "df.head()\n",
    "'''\n",
    "3. describe()\n",
    "describe() is used to generate descriptive statistics of the data in a Pandas DataFrame or Series.It summarizes central\n",
    "tendency and dispersion of the dataset.describe() helps in getting a quick overview of the dataset\n",
    "'''\n",
    "df.describe()\n",
    "'''\n",
    "4.loc[:]\n",
    "loc[:] helps to access a group of rows and columns in a dataset, a slice of the dataset, as per our requirement. \n",
    "'''\n",
    "df.loc[0:2,['PassengerId','Survived','Pclass']]\n",
    "\n",
    "'''\n",
    "5. dtypes used to give the list of datatypes of columns.\n",
    "'''\n",
    "df.dtypes"
   ]
  },
  {
   "cell_type": "code",
   "execution_count": 16,
   "id": "341ffdb3-1eb3-498b-a4ae-087823b5eca3",
   "metadata": {},
   "outputs": [
    {
     "name": "stdout",
     "output_type": "stream",
     "text": [
      "    A    B   C\n",
      "0  10  100  21\n",
      "1  20  200  31\n",
      "2  30  300  41\n",
      "3  40  400  51\n",
      "\n",
      "    A    B   C\n",
      "1  10  100  21\n",
      "3  20  200  31\n",
      "5  30  300  41\n",
      "7  40  400  51\n"
     ]
    }
   ],
   "source": [
    "# Given a Pandas DataFrame df with columns 'A', 'B', and 'C', write a Python function to re-index the\n",
    "#DataFrame with a new index that starts from 1 and increments by 2 for each row.\n",
    "\n",
    "import pandas as pd\n",
    "x = ({'A':[10,20,30,40],'B':[100,200,300,400],'C':[21,31,41,51]})\n",
    "df = pd.DataFrame(x)\n",
    "print(df)\n",
    "print()\n",
    "df1 = pd.DataFrame(x, index = range(1,2*len(df)+1,2))\n",
    "print(df1)"
   ]
  },
  {
   "cell_type": "code",
   "execution_count": 25,
   "id": "3d6997ba-f9f2-403d-926d-5901c1fd5dd2",
   "metadata": {},
   "outputs": [
    {
     "name": "stdout",
     "output_type": "stream",
     "text": [
      "Sum of the first three values: 60\n"
     ]
    }
   ],
   "source": [
    "# You have a Pandas DataFrame df with a column named 'Values'. Write a Python function that iterates over the DataFrame\n",
    "#and calculates the sum of the first three values in the 'Values' column. Thefunction should print the sum to the console.\n",
    " \n",
    "import pandas as pd\n",
    "\n",
    "def calculate_sum_of_first_three(df):\n",
    "    sum_first_three = df['Values'].head(3).sum()\n",
    "    print(\"Sum of the first three values:\", sum_first_three)\n",
    "\n",
    "\n",
    "data = {'Values': [10, 20, 30, 40, 50]}\n",
    "df = pd.DataFrame(data)\n",
    "calculate_sum_of_first_three(df)\n",
    "    "
   ]
  },
  {
   "cell_type": "code",
   "execution_count": 26,
   "id": "25fe57d1-fbce-4509-8ded-712be9158c69",
   "metadata": {},
   "outputs": [
    {
     "name": "stdout",
     "output_type": "stream",
     "text": [
      "                         Text  Word_Count\n",
      "0  This is a sample sentence.           5\n",
      "1         Hello, how are you?           4\n",
      "2  Python programming is fun!           4\n"
     ]
    }
   ],
   "source": [
    "#Given a Pandas DataFrame df with a column 'Text', write a Python function to create a new column\n",
    "#'Word_Count' that contains the number of words in each row of the 'Text' column.\n",
    "\n",
    "import pandas as pd\n",
    "import re\n",
    "\n",
    "def add_word_count_column(df):\n",
    "    df['Word_Count'] = df['Text'].apply(lambda text: len(re.findall(r'\\w+', text)))\n",
    "    return df\n",
    "\n",
    "\n",
    "data = {'Text': [\"This is a sample sentence.\", \"Hello, how are you?\", \"Python programming is fun!\"]}\n",
    "df = pd.DataFrame(data)\n",
    "df_with_word_count = add_word_count_column(df)\n",
    "print(df_with_word_count)\n"
   ]
  },
  {
   "cell_type": "code",
   "execution_count": null,
   "id": "acef1eb5-a155-422b-9aae-c409193244b1",
   "metadata": {},
   "outputs": [],
   "source": [
    "# How are DataFrame.size() and DataFrame.shape() different?\n",
    "'''\n",
    "DataFrame.size:\n",
    "DataFrame.size returns the total number of elements in the DataFrame, which is calculated by multiplying the number of \n",
    "rows by the number of columns.It provides the total count of cells in the DataFrame, including all the individual data \n",
    "points, NaNs, or missing values.The value returned by DataFrame.size is a single integer.\n",
    "\n",
    "DataFrame.shape:\n",
    "DataFrame.shape returns a tuple that represents the dimensions of the DataFrame.The tuple contains two values:\n",
    "the number of rows (axis 0) and the number of columns (axis 1).\n"
   ]
  },
  {
   "cell_type": "code",
   "execution_count": null,
   "id": "731671f6-0a0b-4151-bf1c-2751fb551039",
   "metadata": {},
   "outputs": [],
   "source": [
    "# Which function of pandas do we use to read an excel file?\n",
    "'''\n",
    "In Pandas, you can use the read_excel() function to read data from an Excel file. This function is used to read\n",
    "Excel files (both .xls and .xlsx formats) andconvert them into a Pandas DataFrame.\n",
    "'''"
   ]
  },
  {
   "cell_type": "code",
   "execution_count": 27,
   "id": "5f948b2f-6c44-4faf-9230-9750a6c008ba",
   "metadata": {},
   "outputs": [
    {
     "name": "stdout",
     "output_type": "stream",
     "text": [
      "               Email Username\n",
      "0  user1@example.com    user1\n",
      "1  user2@example.com    user2\n",
      "2  user3@example.com    user3\n"
     ]
    }
   ],
   "source": [
    "# You have a Pandas DataFrame df that contains a column named 'Email' that contains email addresses in the format\n",
    "#'username@domain.com'. Write a Python function that creates a new column'Username' in df that contains only the \n",
    "#username part of each email address.\n",
    "\n",
    "import pandas as pd\n",
    "\n",
    "def extract_username(df):\n",
    "    df['Username'] = df['Email'].str.split('@').str[0]\n",
    "    return df\n",
    "\n",
    "\n",
    "data = {'Email': ['user1@example.com', 'user2@example.com', 'user3@example.com']}\n",
    "df = pd.DataFrame(data)\n",
    "df_with_username = extract_username(df)\n",
    "print(df_with_username)\n"
   ]
  },
  {
   "cell_type": "code",
   "execution_count": null,
   "id": "444738f2-b568-4945-be29-2e0c5e9d8698",
   "metadata": {},
   "outputs": [],
   "source": []
  }
 ],
 "metadata": {
  "kernelspec": {
   "display_name": "Python 3 (ipykernel)",
   "language": "python",
   "name": "python3"
  },
  "language_info": {
   "codemirror_mode": {
    "name": "ipython",
    "version": 3
   },
   "file_extension": ".py",
   "mimetype": "text/x-python",
   "name": "python",
   "nbconvert_exporter": "python",
   "pygments_lexer": "ipython3",
   "version": "3.10.8"
  }
 },
 "nbformat": 4,
 "nbformat_minor": 5
}
