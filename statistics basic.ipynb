{
 "cells": [
  {
   "cell_type": "code",
   "execution_count": null,
   "id": "3c22241f-15a9-4dba-ad11-c90d98fdda9a",
   "metadata": {},
   "outputs": [],
   "source": [
    "# What is Statistics?\n",
    "'''\n",
    "Statistics is a branch of mathematics that involves collecting, analyzing, interpreting, presenting, and organizing data.\n",
    "It provides methods and techniques for summarizing and understanding large sets of data in order to draw meaningful\n",
    "conclusions and make informed decisions. Statistics is used in various fields, including science, social sciences, business, \n",
    "economics, medicine, and more, to uncover patterns, relationships, trends, and uncertainties within data.\n",
    "'''"
   ]
  },
  {
   "cell_type": "code",
   "execution_count": null,
   "id": "e2615c2c-49c5-4382-af75-26cd2896fcea",
   "metadata": {},
   "outputs": [],
   "source": [
    "#Define the different types of statistics and give an example of when each type might be used.\n",
    "'''\n",
    "Descriptive Statistics: This involves methods for summarizing and describing data in a concise and informative manner. \n",
    "Descriptive statistics include measures like mean (average), median (middle value), mode (most frequent value), \n",
    "range (difference between the maximum and minimum values), standard deviation (measure of data dispersion),\n",
    "and various graphical representations like histograms, bar charts, and scatter plots.\n",
    "example height of 20 student in classroom\n",
    "calculating mean medin mode percentile varience and for visualization using different graph are example descriptive statistics.\n",
    "\n",
    "\n",
    "Inferential Statistics: This branch involves making inferences and predictions about a larger population based on a smaller \n",
    "sample of data. Inferential statistics use probability theory to draw conclusions, estimate parameters, and test hypotheses.\n",
    "Techniques like hypothesis testing, confidence intervals, regression analysis, and analysis of variance (ANOVA) fall under this category.\n",
    "example election exit pole are example of inferetial statistics.\n",
    "'''"
   ]
  },
  {
   "cell_type": "code",
   "execution_count": null,
   "id": "0465a943-89d3-4ddb-8bd5-ea3ddf28e1df",
   "metadata": {},
   "outputs": [],
   "source": [
    "# What are the different types of data and how do they differ from each other? Provide an example of each type of data.\n",
    "'''\n",
    "Quantitative data is a type of data that represents quantities or numerical values. It is measurable and can be expressed \n",
    "in terms of numbers, making it suitable for mathematical operations and statistical analysis\n",
    "\n",
    "Discrete Data: Discrete data consists of distinct, separate values. These values are often counted and cannot be subdivided\n",
    "further. Discrete data points are typically whole numbers and are often the result of counting. Examples of discrete data\n",
    "include the number of students in a class, the number of cars in a parking lot, and the number of goals scored in a soccer \n",
    "game.\n",
    "\n",
    "\n",
    "Continuous Data: Continuous data can take on any value within a certain range and can be divided into infinitely fine levels.\n",
    "These data points are typically measured and can have decimal or fractional values. Continuous data is often the result of \n",
    "measuring and can be represented on a continuous scale. Examples of continuous data include height, weight, temperature, and\n",
    "time.\n",
    "\n",
    "\n",
    "\n",
    "Qualitative data is a type of data that represents non-numerical information, often described in terms of qualities or \n",
    "attributes. It deals with characteristics that can be observed but not easily measured with numbers. Qualitative data provides\n",
    "insights into the qualities, properties, and characteristics of a phenomenon and is typically used to explore themes,\n",
    "patterns, and underlying meanings.\n",
    "\n",
    "Nominal Data: This type of qualitative data involves categories that have no inherent order or ranking. Nominal data points \n",
    "can be assigned to different groups or labels, but there is no meaningful order among them. Examples of nominal data include\n",
    "gender (male, female), ethnicity (Caucasian, African American, Asian), and types of animals (dog, cat, bird).\n",
    "\n",
    "Ordinal Data: Ordinal data represents categories with a natural order or ranking, but the intervals between the categories\n",
    "are not uniformly defined. While you can determine that one category is greater than or less than another, the exact \n",
    "difference between them may not be meaningful. Examples of ordinal data include survey responses with options like \"strongly \n",
    "agree,\" \"agree,\" \"neutral,\" \"disagree,\" and \"strongly disagree,\" as well as educational levels \n",
    "(high school, bachelor's degree, master's degree, Ph.D.).\n",
    "\n",
    "'''\n"
   ]
  },
  {
   "cell_type": "code",
   "execution_count": null,
   "id": "65bb4bbd-f3b5-4b59-a825-e19486330ecc",
   "metadata": {},
   "outputs": [],
   "source": [
    "Categorise the following datasets with respect to quantitative and qualitative data types:\n",
    "(i) Grading in exam: A+, A, B+, B, C+, C, D, E  # qualitative data\n",
    "(ii) Colour of mangoes: yellow, green, orange, red # qualitative data\n",
    "(iii) Height data of a class: [178.9, 179, 179.5, 176, 177.2, 178.3, 175.8,...]   # quantitative data\n",
    "(iv) Number of mangoes exported by a farm: [500, 600, 478, 672, ...]    # quantitative data\n",
    "\n"
   ]
  },
  {
   "cell_type": "code",
   "execution_count": null,
   "id": "e6e1412a-18d9-4555-9e5e-809219a5279c",
   "metadata": {},
   "outputs": [],
   "source": [
    "#Explain the concept of levels of measurement and give an example of a variable for each level.\n",
    "\n",
    "The concept of levels of measurement, also known as scales of measurement or data measurement levels, refers to the way data \n",
    "is categorized and the mathematical operations that can be performed on the data.\n",
    "\n",
    "Nominal Level: Variable - Hair Color (Categories: black, brown, blonde)\n",
    "\n",
    "Ordinal Level: Variable - Educational Attainment (Categories: high school diploma, bachelor's degree, master's degree)\n",
    "\n",
    "Interval Level: Variable - Temperature in Celsius (Values: 20°C, 30°C, 40°C)\n",
    "\n",
    "Ratio Level: Variable - Weight in Kilograms (Values: 50 kg, 70 kg, 90 kg)"
   ]
  },
  {
   "cell_type": "code",
   "execution_count": null,
   "id": "f67e21e3-92c2-473b-bff2-0a67829ff446",
   "metadata": {},
   "outputs": [],
   "source": [
    "# Why is it important to understand the level of measurement when analyzing data? Provide an example to illustrate your answer.\n",
    "\n",
    "Understanding the level of measurement is essential when analyzing data because it determines the types of statistical \n",
    "analyses that can be appropriately applied to the data. Different levels of measurement have distinct properties and \n",
    "limitations, and using the wrong type of analysis can lead to incorrect or misleading conclusions."
   ]
  },
  {
   "cell_type": "code",
   "execution_count": null,
   "id": "7d73d939-50e6-471d-bbf7-5e57fea243f7",
   "metadata": {},
   "outputs": [],
   "source": [
    "How nominal data type is different from ordinal data type.\n",
    "\n",
    "While Nominal Data is classified without any intrinsic ordering or rank,\n",
    "Ordinal Data has some predetermined or natural order. \n",
    "\n",
    "Nominal data is qualitative or categorical data,\n",
    "while Ordinal data is considered “in-between” qualitative and quantitative data."
   ]
  },
  {
   "cell_type": "code",
   "execution_count": null,
   "id": "3cadab83-a0b4-49fb-a485-4298d8dfa883",
   "metadata": {},
   "outputs": [],
   "source": [
    "Which type of plot can be used to display data in terms of range?\n",
    "\n",
    "A box plot, also known as a box-and-whisker plot, is commonly used to display data in terms of its range. \n",
    "A box plot provides a visual representation of the distribution of data, including measures of central tendency, \n",
    "variability, and potential outliers."
   ]
  },
  {
   "cell_type": "code",
   "execution_count": null,
   "id": "44e77f17-98e9-4e5a-9852-0d33f538cf9d",
   "metadata": {},
   "outputs": [],
   "source": [
    " Describe the difference between descriptive and inferential statistics. Give an example of each\n",
    "type of statistics and explain how they are used.\n",
    "\n",
    "descriptive statistics focus on describing the visible characteristics of a dataset (a population or sample).\n",
    "\n",
    "Meanwhile, inferential statistics focus on making predictions or generalizations about a larger dataset, \n",
    "based on a sample of those data."
   ]
  },
  {
   "cell_type": "code",
   "execution_count": null,
   "id": "d3d78c83-0d50-4313-8339-34645e2a0f2b",
   "metadata": {},
   "outputs": [],
   "source": [
    "What are some common measures of central tendency and variability used in statistics? Explain\n",
    "how each measure can be used to describe a dataset.\n",
    "\n",
    "Measures of Central Tendency:\n",
    "\n",
    "Mean (Average): The mean is calculated by summing up all the values in a dataset and then dividing by the total number of \n",
    "values.\n",
    "\n",
    "Median: The median is the middle value in an ordered dataset.\n",
    "It's less affected by extreme values and provides a measure of the \"middle\" of the data distribution.\n",
    "\n",
    "Mode: The mode is the value that appears most frequently in a dataset. It identifies the most common value or category.\n",
    "\n",
    "Measures of Variability:\n",
    "\n",
    "Range: The range is the difference between the maximum and minimum values in a dataset.\n",
    "It provides an overall measure of the spread of data.\n",
    "\n",
    "Variance: Variance quantifies the average squared deviation of each data point from the mean.\n",
    "It provides information about the variability of the data points around the mean.\n",
    "\n",
    "Standard Deviation: The standard deviation is the square root of the variance.\n",
    "It measures the average amount by which data points deviate from the mean."
   ]
  }
 ],
 "metadata": {
  "kernelspec": {
   "display_name": "Python 3 (ipykernel)",
   "language": "python",
   "name": "python3"
  },
  "language_info": {
   "codemirror_mode": {
    "name": "ipython",
    "version": 3
   },
   "file_extension": ".py",
   "mimetype": "text/x-python",
   "name": "python",
   "nbconvert_exporter": "python",
   "pygments_lexer": "ipython3",
   "version": "3.10.8"
  }
 },
 "nbformat": 4,
 "nbformat_minor": 5
}
