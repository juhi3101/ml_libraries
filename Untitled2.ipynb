{
  "nbformat": 4,
  "nbformat_minor": 0,
  "metadata": {
    "colab": {
      "provenance": [],
      "authorship_tag": "ABX9TyOhbBRJ1PueMlXiwZb7dcvK",
      "include_colab_link": true
    },
    "kernelspec": {
      "name": "python3",
      "display_name": "Python 3"
    },
    "language_info": {
      "name": "python"
    }
  },
  "cells": [
    {
      "cell_type": "markdown",
      "metadata": {
        "id": "view-in-github",
        "colab_type": "text"
      },
      "source": [
        "<a href=\"https://colab.research.google.com/github/juhi3101/ml_libraries/blob/main/Untitled2.ipynb\" target=\"_parent\"><img src=\"https://colab.research.google.com/assets/colab-badge.svg\" alt=\"Open In Colab\"/></a>"
      ]
    },
    {
      "cell_type": "code",
      "execution_count": null,
      "metadata": {
        "id": "ZvSAfFlwSPrQ"
      },
      "outputs": [],
      "source": [
        "# explain with an example\n",
        "1 artificial intelligence\n",
        "2 machine learning\n",
        "3 deep learning\n",
        "\n",
        "artificial intelligence  Artificial Intelligence (AI) is a branch of computer science that focuses on creating systems and machines capable of performing tasks\n",
        "that typically require human intelligence. These tasks include things like problem-solving, learning, understanding natural language, recognizing patterns,\n",
        "and making decisions. AI aims to develop computer programs and algorithms that can mimic or simulate human cognitive functions.\n",
        "\n",
        "machine learning Machine Learning: Machine learning is a subset of AI that involves training algorithms to learn from data and make predictions or\n",
        "decisions without being explicitly programmed. It uses statistical techniques to enable computers to improve their performance on a specific task\n",
        "through experience and data.\n",
        "\n",
        "Deep Learning: Deep learning is a subset of machine learning that focuses on neural networks with multiple layers (deep neural networks).\n",
        "It has been particularly successful in tasks such as image and speech recognition and natural language processing.\n",
        "\n"
      ]
    },
    {
      "cell_type": "code",
      "source": [
        "Q2- What is supervised learning ? List some example  of supervised learning .\n",
        "\n",
        "the algorithm is supervised as it is trained on a dataset where the correct answers or labels are provided.\n",
        "The goal of supervised learning is to learn a mapping function that can make accurate predictions on new, unseen data.\n",
        "Here are some examples of supervised learning:\n",
        "Image Classification, Sentiment Analysis, Spam Email Detection, Predicting Stock Prices\n"
      ],
      "metadata": {
        "id": "XAU_54X8Unkg"
      },
      "execution_count": null,
      "outputs": []
    },
    {
      "cell_type": "code",
      "source": [
        "Q3- What is unsupervised learning? List some example of unsupervised learning.\n",
        "\n",
        "Unsupervised learning is a type of machine learning where the algorithm learns from unlabeled data, meaning it doesn't have access to explicit output\n",
        "labels or categories. Instead, the algorithm aims to find patterns, structures, or relationships within the data on its own.\n",
        "Here are some examples of unsupervised learning:\n",
        "Anomaly Detection , Topic Modeling, Recommendation Systems,Market Basket Analysis"
      ],
      "metadata": {
        "id": "r9iUkZGuV21k"
      },
      "execution_count": null,
      "outputs": []
    },
    {
      "cell_type": "code",
      "source": [
        "Q4- What is the difference between  AI, ML, DL, and DS?\n",
        "artificial intelligence smart application that can perform its own task without any human intervention, for example self drving car , robotics, alexa\n",
        "machine learning it provide statistics to analyze , visualize , predictive model and forcasting . for example amazon flipkart uses recommnedation system\n",
        "deep learning it is subfeild of machine learning uses multilayered neural network. for example object detection , image recognition, recommendatiom system\n",
        "data science is broader field which cover all AI ML DL and also numerical portion ."
      ],
      "metadata": {
        "id": "PUp6xr_kW1C-"
      },
      "execution_count": null,
      "outputs": []
    },
    {
      "cell_type": "code",
      "source": [
        "Q5- What are the main difference between  supervised, unsupervised, and semi-supervised learning?\n",
        "\n",
        "Supervised Learning:\n",
        "\n",
        "Data Type: In supervised learning, the algorithm is trained on a labeled dataset, which means each data point has associated input features and a\n",
        "corresponding output label or target.\n",
        "Goal: The primary goal is to learn a mapping from inputs to outputs so that the algorithm can make accurate predictions on new, unseen data.\n",
        "\n",
        "Unsupervised Learning:\n",
        "\n",
        "Data Type: Unsupervised learning algorithms are trained on unlabeled data, where there are no explicit output labels or categories.\n",
        "Goal: The primary goal is to discover patterns, structures, or relationships within the data, such as clustering similar data points together or\n",
        "reducing the dimensionality of the data.\n",
        "\n",
        "Semi-Supervised Learning:\n",
        "\n",
        "Data Type: Semi-supervised learning combines elements of both supervised and unsupervised learning. It involves training on a dataset that includes\n",
        "both labeled and unlabeled data points.\n",
        "Goal: The goal is to leverage the limited labeled data to improve the model's performance on unlabeled data. It can help mitigate the challenge of\n",
        "obtaining large amounts of labeled data."
      ],
      "metadata": {
        "id": "I5E9M29dYcZ0"
      },
      "execution_count": null,
      "outputs": []
    },
    {
      "cell_type": "code",
      "source": [
        "Q6- What is train, test and validation split? Explain the importance of each term.\n",
        "\n",
        "Training Set:\n",
        "\n",
        "Purpose: The training set is the largest portion of the dataset and is used to train the machine learning model.\n",
        "The model learns the underlying patterns, relationships, and features from this data.\n",
        "Characteristics: This set consists of input data points along with their corresponding output labels or target values.\n",
        "In supervised learning, the model uses the training set to learn how to make predictions.\n",
        "\n",
        "Validation Set:\n",
        "\n",
        "Purpose: The validation set is used to fine-tune hyperparameters and monitor the model's performance during training. It helps in preventing overfitting\n",
        "(when a model performs well on the training data but poorly on new, unseen data).\n",
        "Characteristics: Similar to the training set, the validation set consists of input data points and their corresponding labels.\n",
        "However, the model does not use this data for training.\n",
        "\n",
        "Test Set:\n",
        "\n",
        "Purpose: The test set is used to assess the final performance of the trained model. It provides an unbiased evaluation of how well the model\n",
        "is expected to perform on new, unseen data in real-world applications.\n",
        "Characteristics: Like the training and validation sets, the test set consists of input data points, but unlike the validation set,\n",
        "it does not play a role in model selection or hyperparameter tuning."
      ],
      "metadata": {
        "id": "nHtlrxRzYcfY"
      },
      "execution_count": null,
      "outputs": []
    },
    {
      "cell_type": "code",
      "source": [
        "Q7- How can unsupurvised learning be used in anomaly detection?\n",
        "\n",
        "Unsupervised learning is a powerful approach for anomaly detection because it can discover patterns, structures, or clusters within data\n",
        "without relying on pre-labeled anomalies.\n",
        "Here's how unsupervised learning can be used for anomaly detection\n",
        "Clustering-Based Anomaly Detection using k means and DBSCAN\n",
        "\n",
        "Dimensionality Reduction-Based Anomaly Detection using PCA and Autoencoder\n",
        "\n",
        "Density Estimation-Based Anomaly Detection using guassian mixture model and isolation forest"
      ],
      "metadata": {
        "id": "7YLhajBLbW7H"
      },
      "execution_count": null,
      "outputs": []
    },
    {
      "cell_type": "code",
      "source": [
        "Q8- List down some commonly used supervised learning algorithms and unsupervised learning algorithms.\n",
        "supervised learnig algorithm\n",
        "linear regression\n",
        "logistics regression\n",
        "decision tree\n",
        "random forest\n",
        "support vector machine\n",
        "k nearest neighbors\n",
        "naive bayes\n",
        "neural network\n",
        "\n",
        "unsupervised learning\n",
        "k means clustering\n",
        "hiererichal clustering\n",
        "principle componenet analysis\n",
        "DBSCAN\n",
        "guassian mixture model\n",
        "one class svm\n",
        "isolation forest\n",
        "autoencoder"
      ],
      "metadata": {
        "id": "T6BZ7nILdL-m"
      },
      "execution_count": null,
      "outputs": []
    }
  ]
}