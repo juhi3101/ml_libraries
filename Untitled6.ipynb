{
  "nbformat": 4,
  "nbformat_minor": 0,
  "metadata": {
    "colab": {
      "provenance": [],
      "authorship_tag": "ABX9TyOUbpS7WeFW28kGLY+NC+Z0",
      "include_colab_link": true
    },
    "kernelspec": {
      "name": "python3",
      "display_name": "Python 3"
    },
    "language_info": {
      "name": "python"
    }
  },
  "cells": [
    {
      "cell_type": "markdown",
      "metadata": {
        "id": "view-in-github",
        "colab_type": "text"
      },
      "source": [
        "<a href=\"https://colab.research.google.com/github/juhi3101/ml_libraries/blob/main/Untitled6.ipynb\" target=\"_parent\"><img src=\"https://colab.research.google.com/assets/colab-badge.svg\" alt=\"Open In Colab\"/></a>"
      ]
    },
    {
      "cell_type": "code",
      "execution_count": null,
      "metadata": {
        "id": "Ru5psOOqteTQ"
      },
      "outputs": [],
      "source": [
        "#Explain the assumptions required to use ANOVA and provide examples of violations that could impact the validity of the results.\n",
        "\n",
        "Independence: The observations within each group are assumed to be independent of each other. This means that the value of one observation does not influence\n",
        "the value of another observation.\n",
        "\n",
        "Normality: The data within each group should be approximately normally distributed. This assumption is more critical when the sample sizes are small.\n",
        "Departures from normality can impact the accuracy of p-values and confidence intervals.\n",
        "\n",
        "Homogeneity of Variance (Homoscedasticity): The variability of scores within each group should be roughly equal across all groups. In other words,\n",
        "the variances of the groups should be similar. Violations of this assumption can lead to incorrect conclusions about group differences.\n",
        "\n",
        "Independence:\n",
        "\n",
        "Violation Example: Observations in a study on employee performance are collected from different teams in the same company.\n",
        "However, team members' performances might be correlated due to shared work environments, affecting the assumption of independence.\n",
        "\n",
        "Violation Example: Suppose you're comparing the test scores of different teaching methods. If the sample size is small and the test scores are highly skewed,\n",
        "ANOVA assumptions might be violated.In such cases, transformations (e.g., logarithmic) or non-parametric tests might be more appropriate.Homogeneity of Variance:\n",
        "\n",
        "Violation Example: Consider an ANOVA comparing the effectiveness of different drugs on a medical condition. If the variability of response within one drug\n",
        "group is much larger than the others, it violates homogeneity of variance.This can be detected using statistical tests like Levene's test or visual methods like residual plots."
      ]
    },
    {
      "cell_type": "code",
      "source": [
        "#What are the three types of ANOVA, and in what situations would each be used?\n",
        "One-Way ANOVA:\n",
        "\n",
        "Situation: One-Way ANOVA is used when you have one categorical independent variable (also known as a factor) and a continuous dependent variable.\n",
        "Example: Suppose you're comparing the average test scores of students who have been taught using three different teaching methods\n",
        "(Method A, Method B, and Method C). Here, the teaching method is the independent variable, and the test scores are the dependent variable.\n",
        "\n",
        "Two-Way ANOVA:\n",
        "\n",
        "Situation: Two-Way ANOVA is used when you have two categorical independent variables and a continuous dependent variable.\n",
        "This type of ANOVA helps to study the interaction between the two factors.\n",
        "Example: Imagine you're investigating the effects of both teaching methods and gender on test scores. Here, teaching method and gender are the two independent\n",
        "variables, and the test scores are the dependent variable.\n",
        "\n",
        "Repeated Measures ANOVA:\n",
        "\n",
        "Situation: Repeated Measures ANOVA (also known as within-subjects ANOVA) is used when you have a single group of subjects that are measured under multiple\n",
        "conditions or time points.\n",
        "Example: Suppose you're examining the effects of a new drug on blood pressure. You measure the blood pressure of the same group of participants at\n",
        "baseline, after one week, and after two weeks."
      ],
      "metadata": {
        "id": "FuiMUzsJzqf6"
      },
      "execution_count": null,
      "outputs": []
    },
    {
      "cell_type": "code",
      "source": [
        "#What is the partitioning of variance in ANOVA, and why is it important to understand this concept?\n",
        "\n",
        "Between-Group Variance (Treatment Variance):\n",
        "This component accounts for the variability between the different groups or levels of the independent variable (factor) being studied.\n",
        "It represents the differences in means among the groups.\n",
        "\n",
        "Within-Group Variance (Error Variance):\n",
        "This component accounts for the variability within each group. It represents the variability of individual observations around their respective group means.\n",
        "\n",
        "The total variance is the sum of the between-group variance and the within-group variance:\n",
        "\n",
        "Total Variance = Between-Group Variance + Within-Group Variance"
      ],
      "metadata": {
        "id": "ef-c3WsQ4wJ2"
      },
      "execution_count": null,
      "outputs": []
    },
    {
      "cell_type": "code",
      "source": [
        "#How would you calculate the total sum of squares (SST), explained sum of squares (SSE), and residual sum of squares (SSR) in a one-way ANOVA using Python?\n",
        "\n",
        "import numpy as np\n",
        "\n",
        "# Example data\n",
        "data = {\n",
        "    'GroupA': [10, 12, 14, 16, 18],\n",
        "    'GroupB': [20, 22, 24, 26, 28],\n",
        "    'GroupC': [30, 32, 34, 36, 38]\n",
        "}\n",
        "\n",
        "# Combine data from all groups into a single array\n",
        "all_data = np.concatenate([values for values in data.values()])\n",
        "\n",
        "# Calculate the overall mean\n",
        "overall_mean = np.mean(all_data)\n",
        "\n",
        "# Calculate the total sum of squares (SST)\n",
        "sst = np.sum((all_data - overall_mean) ** 2)\n",
        "\n",
        "# Calculate the explained sum of squares (SSE)\n",
        "sse = sum(np.sum((np.array(values) - np.mean(values)) ** 2) for values in data.values())\n",
        "\n",
        "# Calculate the residual sum of squares (SSR)\n",
        "ssr = sst - sse\n",
        "\n",
        "print(\"Total Sum of Squares (SST):\", sst)\n",
        "print(\"Explained Sum of Squares (SSE):\", sse)\n",
        "print(\"Residual Sum of Squares (SSR):\", ssr)\n"
      ],
      "metadata": {
        "id": "wVLGfD1X6DZ2"
      },
      "execution_count": null,
      "outputs": []
    },
    {
      "cell_type": "code",
      "source": [
        "#In a two-way ANOVA, how would you calculate the main effects and interaction effects using Python?\n",
        "\n",
        "import pandas as pd\n",
        "from scipy.stats import f_oneway\n",
        "\n",
        "# Create a DataFrame with example data\n",
        "data = {\n",
        "    'FactorA': [10, 12, 14, 16, 18, 20, 22, 24],\n",
        "    'FactorB': [15, 14, 18, 20, 22, 12, 16, 10],\n",
        "    'DependentVar': [25, 28, 30, 32, 35, 18, 22, 20]\n",
        "}\n",
        "\n",
        "df = pd.DataFrame(data)\n",
        "\n",
        "# Calculate main effects for Factor A and Factor B\n",
        "main_effect_A = f_oneway(*[df[df['FactorA'] == level]['DependentVar'] for level in df['FactorA'].unique()])\n",
        "main_effect_B = f_oneway(*[df[df['FactorB'] == level]['DependentVar'] for level in df['FactorB'].unique()])\n",
        "\n",
        "print(\"Main Effect A:\")\n",
        "print(\"F-statistic:\", main_effect_A.statistic)\n",
        "print(\"p-value:\", main_effect_A.pvalue)\n",
        "\n",
        "print(\"Main Effect B:\")\n",
        "print(\"F-statistic:\", main_effect_B.statistic)\n",
        "print(\"p-value:\", main_effect_B.pvalue)\n"
      ],
      "metadata": {
        "id": "G8wHNQeW6WW1"
      },
      "execution_count": null,
      "outputs": []
    },
    {
      "cell_type": "code",
      "source": [
        "#In a repeated measures ANOVA, how would you handle missing data, and what are the potential consequences of using different methods to handle missing data?\n",
        "\n",
        "Handling missing data is an important consideration in any statistical analysis, including repeated measures ANOVA.\n",
        "Missing data can arise due to various reasons such as participant dropout, technical issues, or incomplete responses.\n",
        "\n",
        "Mean Imputation:\n",
        "In mean imputation, missing values for a variable are replaced with the mean of the observed values for that variable\n",
        "\n",
        "Last Observation Carried Forward (LOCF):\n",
        "In LOCF, the last observed value is used to replace the missing value.\n",
        "\n",
        "Listwise Deletion (Complete Case Analysis):\n",
        "This approach involves excluding any participant who has missing data on any variable."
      ],
      "metadata": {
        "id": "F7AoeTXl-P3V"
      },
      "execution_count": null,
      "outputs": []
    },
    {
      "cell_type": "code",
      "source": [
        "#What are some common post-hoc tests used after ANOVA, and when would you use each one? Provide an example of a situation where a post-hoc test might be necessary.\n",
        "\n",
        " ANOVA tells you that at least one group is different from the others, but it doesn't identify which groups are different.\n",
        "Post-hoc tests are designed to make pairwise comparisons between groups to pinpoint where these differences lie.\n",
        "\n",
        "Tukey's Honestly Significant Difference (HSD)\n",
        "\n",
        "Dunn's Test (Non-parametric)\n",
        "\n",
        "Fisher's Least Significant Difference (LSD)"
      ],
      "metadata": {
        "id": "GyQ92UbdAoHA"
      },
      "execution_count": null,
      "outputs": []
    }
  ]
}