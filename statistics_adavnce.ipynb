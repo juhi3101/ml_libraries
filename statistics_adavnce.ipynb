{
  "nbformat": 4,
  "nbformat_minor": 0,
  "metadata": {
    "colab": {
      "provenance": [],
      "authorship_tag": "ABX9TyM9ZjP+so90ewaNA32d2Q17",
      "include_colab_link": true
    },
    "kernelspec": {
      "name": "python3",
      "display_name": "Python 3"
    },
    "language_info": {
      "name": "python"
    }
  },
  "cells": [
    {
      "cell_type": "markdown",
      "metadata": {
        "id": "view-in-github",
        "colab_type": "text"
      },
      "source": [
        "<a href=\"https://colab.research.google.com/github/juhi3101/ml_libraries/blob/main/statistics_adavnce.ipynb\" target=\"_parent\"><img src=\"https://colab.research.google.com/assets/colab-badge.svg\" alt=\"Open In Colab\"/></a>"
      ]
    },
    {
      "cell_type": "code",
      "execution_count": null,
      "metadata": {
        "id": "_7SzQXdc4Xjq"
      },
      "outputs": [],
      "source": [
        "What is the Probability density function?\n",
        "\n",
        "it's a mathematical function that provides information about the distribution of possible values for a continuous random variable.\n",
        "example like height of student in a classroom\n"
      ]
    },
    {
      "cell_type": "code",
      "source": [
        "What are the types of Probability distribution?\n",
        "\n",
        "Discrete Probability Distributions:\n",
        "\n",
        "Bernoulli Distribution: Describes a binary outcome (success/failure) with a single trial, often used in situations with only two possible outcomes.\n",
        "\n",
        "Binomial Distribution: Represents the number of successes in a fixed number of independent Bernoulli trials.\n",
        "\n",
        "Poisson Distribution: Models the number of events occurring in a fixed interval of time or space, given an average rate of occurrence.\n",
        "Continuous Probability Distributions:\n",
        "\n",
        "Normal Distribution (Gaussian Distribution): One of the most important distributions, characterized by its bell-shaped curve. It's used to model many natural phenomena.\n",
        "Uniform Distribution: Equally likely outcomes over a specified interval.\n",
        "\n",
        "Exponential Distribution: Models the time between events in a Poisson process (events that occur randomly and independently).\n",
        "\n",
        "Gamma Distribution: Generalizes the exponential distribution and is often used for modeling time-to-failure data.\n",
        "\n",
        "Beta Distribution: Represents the distribution of probabilities for events that have a fixed range of possible outcomes.\n",
        "\n",
        "Chi-Square Distribution: Used in hypothesis testing and confidence interval calculations, often related to the sum of squared standard normal deviates.\n",
        "\n",
        "Student's t-Distribution: Used for inference about population means when the sample size is small or when the population standard deviation is unknown.\n",
        "\n",
        "F-Distribution: Used for comparing variances or testing hypotheses about variances of two populations.\n"
      ],
      "metadata": {
        "id": "GgRDf1y85EPs"
      },
      "execution_count": null,
      "outputs": []
    },
    {
      "cell_type": "code",
      "source": [
        "#Write a Python function to calculate the probability density function of a normal distribution with given mean and standard deviation at a given point.\n",
        "\n",
        "import math\n",
        "\n",
        "def normal_pdf(x, mean, std_dev):\n",
        "\n",
        "    coefficient = 1 / (std_dev * math.sqrt(2 * math.pi))\n",
        "    exponent = -((x - mean) ** 2) / (2 * std_dev ** 2)\n",
        "    pdf_value = coefficient * math.exp(exponent)\n",
        "    return pdf_value\n",
        "\n",
        "\n",
        "mean = 0\n",
        "std_dev = 1\n",
        "point = 0.5\n",
        "pdf_at_point = normal_pdf(point, mean, std_dev)\n",
        "print(f\"PDF at {point}: {pdf_at_point}\")\n"
      ],
      "metadata": {
        "id": "kPI-L19K5uwz"
      },
      "execution_count": null,
      "outputs": []
    },
    {
      "cell_type": "code",
      "source": [
        "#What are the properties of Binomial distribution? Give two examples of events where binomial distribution can be applied.\n",
        "\n",
        "The binomial distribution is a discrete probability distribution that models the number of successes in a fixed number of independent Bernoulli trials,\n",
        "where each trial has two possible outcomes:  success or failure.\n",
        "\n",
        "Two examples of events where the binomial distribution can be applied are:\n",
        "\n",
        "Coin Flipping: Consider flipping a fair coin 'n' times and counting the number of times it lands heads up. Each flip has two possible outcomes:\n",
        "heads (success) or tails (failure). The binomial distribution can be used to model the number of heads obtained in 'n' coin flips.\n",
        "\n",
        "Medical Testing: Suppose a new medical test is being developed to diagnose a certain condition. Patients either have the condition (success) or don't\n",
        "have it (failure). The test is administered to 'n' patients, and we're interested in the number of patients who test positive for the condition.\n",
        "The binomial distribution can model the number of positive test results among the patients."
      ],
      "metadata": {
        "id": "kHlpg5Ft6Ic1"
      },
      "execution_count": null,
      "outputs": []
    },
    {
      "cell_type": "code",
      "source": [
        "#Generate a random sample of size 1000 from a binomial distribution with probability of success 0.4 and plot a histogram of the results using matplotlib.\n",
        "\n",
        "import numpy as np\n",
        "import matplotlib.pyplot as plt\n",
        "\n",
        "sample_size = 1000\n",
        "probability_of_success = 0.4\n",
        "number_of_trials = 1\n",
        "\n",
        "random_sample = np.random.binomial(number_of_trials, probability_of_success, size=sample_size)\n",
        "\n",
        "\n",
        "plt.hist(random_sample, bins=np.arange(number_of_trials + 2) - 0.5, rwidth=0.8, density=True, alpha=0.7)\n",
        "plt.xlabel('Number of Successes')\n",
        "plt.ylabel('Probability')\n",
        "plt.title('Histogram of Binomial Distribution')\n",
        "plt.xticks(range(number_of_trials + 1))\n",
        "plt.grid(True)\n",
        "plt.show()\n"
      ],
      "metadata": {
        "id": "vM9nj_OB6Iex"
      },
      "execution_count": null,
      "outputs": []
    },
    {
      "cell_type": "code",
      "source": [
        "#Write a Python function to calculate the cumulative distribution function of a Poisson distribution with given mean at a given point.\n",
        "\n",
        "import math\n",
        "\n",
        "def poisson_cdf(x, mean):\n",
        "\n",
        "    cdf_value = 0\n",
        "    for k in range(x + 1):\n",
        "        cdf_value += (math.exp(-mean) * mean**k) / math.factorial(k)\n",
        "    return cdf_value\n",
        "\n",
        "\n",
        "mean = 3.5\n",
        "point = 5\n",
        "cdf_at_point = poisson_cdf(point, mean)\n",
        "print(f\"CDF at {point}: {cdf_at_point}\")\n"
      ],
      "metadata": {
        "id": "KzMXX4017dPf"
      },
      "execution_count": null,
      "outputs": []
    },
    {
      "cell_type": "code",
      "source": [
        "# How Binomial distribution different from Poisson distribution?\n",
        "\n",
        "1. Binomial Distribution:\n",
        "\n",
        "Number of Trials: The Binomial distribution is used when you have a fixed number of independent trials, denoted as 'n'.\n",
        "Two Outcomes: Each trial has only two possible outcomes: success or failure.\n",
        "Constant Probability of Success: The probability of success ('p') remains the same for all trials, and the probability of failure is '1 - p'.\n",
        "Parameters: The Binomial distribution is defined by two parameters: the number of trials ('n') and the probability of success on a single trial ('p').\n",
        "Examples: Coin flipping, the number of defective items in a batch, pass/fail rates in tests.\n",
        "\n",
        "2. Poisson Distribution:\n",
        "\n",
        "Events in an Interval: The Poisson distribution is used to model the number of events occurring in a fixed interval of time or space.\n",
        "Counting Rare Events: It is appropriate when the events are rare and the probability of more than one event occurring in a very short interval is negligible.\n",
        "Constant Rate: The average rate of events occurring in the interval is denoted as 'λ' (lambda) and remains constant.\n",
        "Parameters: The Poisson distribution is defined by a single parameter, the average rate 'λ'.\n",
        "Examples: Number of phone calls received in an hour, number of accidents in a day, number of emails received per day.\n"
      ],
      "metadata": {
        "id": "NwfV_Huu7u-L"
      },
      "execution_count": null,
      "outputs": []
    },
    {
      "cell_type": "code",
      "source": [
        "#Generate a random sample of size 1000 from a Poisson distribution with mean 5 and calculate the sample mean and variance.\n",
        "\n",
        "import numpy as np\n",
        "\n",
        "\n",
        "sample_size = 1000\n",
        "mean = 5\n",
        "\n",
        "\n",
        "random_sample = np.random.poisson(mean, size=sample_size)\n",
        "\n",
        "\n",
        "sample_mean = np.mean(random_sample)\n",
        "sample_variance = np.var(random_sample)\n",
        "\n",
        "print(f\"Sample Mean: {sample_mean}\")\n",
        "print(f\"Sample Variance: {sample_variance}\")\n"
      ],
      "metadata": {
        "id": "aWdZMqDP8d6M"
      },
      "execution_count": null,
      "outputs": []
    },
    {
      "cell_type": "code",
      "source": [
        "# How mean and variance are related in Binomial distribution and Poisson distribution?\n",
        "Binomial Distribution:\n",
        "For a Binomial distribution with parameters 'n' (number of trials) and 'p' (probability of success on a single trial), the mean and variance are related as\n",
        "follows:\n",
        "\n",
        "Mean (μ) = n * p\n",
        "Variance (σ^2) = n * p * (1 - p)\n",
        "\n",
        "Poisson Distribution:\n",
        "For a Poisson distribution with a parameter 'λ' (average rate of events in a fixed interval), the mean and variance are related as follows:\n",
        "\n",
        "Mean (μ) = λ\n",
        "Variance (σ^2) = λ\n"
      ],
      "metadata": {
        "id": "8CsyCjiC84dH"
      },
      "execution_count": null,
      "outputs": []
    },
    {
      "cell_type": "code",
      "source": [
        "In normal distribution with respect to mean position, where does the least frequent data appear?\n",
        "\n",
        "In a normal distribution (also known as a Gaussian distribution), the least frequent data points are located in the tails of the distribution,\n",
        "far away from the mean. The tails of a normal distribution represent the extreme values that are relatively rare compared to the values near the mean.\n",
        "\n",
        "In a standard normal distribution (a normal distribution with a mean of 0 and a standard deviation of 1), approximately:\n",
        "\n",
        "About 68.27% of the data falls within one standard deviation of the mean.\n",
        "About 95.45% falls within two standard deviations.\n",
        "About 99.73% falls within three standard deviations."
      ],
      "metadata": {
        "id": "GBUzKxcP9cs9"
      },
      "execution_count": null,
      "outputs": []
    }
  ]
}